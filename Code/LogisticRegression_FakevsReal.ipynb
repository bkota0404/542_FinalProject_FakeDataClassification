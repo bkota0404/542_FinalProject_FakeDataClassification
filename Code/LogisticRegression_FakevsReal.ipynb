{
  "nbformat": 4,
  "nbformat_minor": 0,
  "metadata": {
    "colab": {
      "name": "LogisticRegression_FakevsReal.ipynb",
      "provenance": [],
      "collapsed_sections": []
    },
    "kernelspec": {
      "name": "python3",
      "display_name": "Python 3"
    },
    "language_info": {
      "name": "python"
    },
    "accelerator": "GPU",
    "gpuClass": "standard"
  },
  "cells": [
    {
      "cell_type": "code",
      "execution_count": 1,
      "metadata": {
        "colab": {
          "base_uri": "https://localhost:8080/"
        },
        "id": "eDBMzaS5ddi6",
        "outputId": "a8bf2369-0179-4a33-f06b-dd988a5a49fd"
      },
      "outputs": [
        {
          "output_type": "stream",
          "name": "stdout",
          "text": [
            "Mounted at /content/drive\n"
          ]
        }
      ],
      "source": [
        "from google.colab import drive\n",
        "drive.mount('/content/drive')\n",
        "filepath = '/content/drive/MyDrive/542_Summer/FinalProject'"
      ]
    },
    {
      "cell_type": "code",
      "source": [
        "import pandas as pd\n",
        "df_TrainSet_proc = pd.read_csv(filepath+'/TrainProcessed.csv') \n",
        "df_TestSet_proc = pd.read_csv(filepath+'/TestProcessed.csv') "
      ],
      "metadata": {
        "id": "8RUD8LAAdzvy"
      },
      "execution_count": 2,
      "outputs": []
    },
    {
      "cell_type": "code",
      "source": [
        "df_TrainSet_proc"
      ],
      "metadata": {
        "colab": {
          "base_uri": "https://localhost:8080/",
          "height": 676
        },
        "id": "XxxV52y0MhnS",
        "outputId": "b4157aed-15be-405c-a933-5b3532202675"
      },
      "execution_count": 3,
      "outputs": [
        {
          "output_type": "execute_result",
          "data": {
            "text/plain": [
              "       Unnamed: 0    SNo                                              title  \\\n",
              "0               0  14915  Russia's RT America registers as 'foreign agen...   \n",
              "1               1   7023  Trump to pick Seema Verma for Centers for Medi...   \n",
              "2               2  17057  Global Warming Scammer Makes Millions BUT Is J...   \n",
              "3               3  17047  OUTRAGEOUS REPORT: EPA’s Wasteful Spending On ...   \n",
              "4               4   6056  Despite no evidence, White House says Trump st...   \n",
              "...           ...    ...                                                ...   \n",
              "40404       40404    624  Republican Senator Johnson opposes Senate tax ...   \n",
              "40405       40405  20123  MUSLIMS SILENT AFTER TERROR ATTACKS…BUT BLAME ...   \n",
              "40406       40406  17452  Hundreds of U.S. Marines leave Australia after...   \n",
              "40407       40407  11645  OUCH! Leftist Hollywood Just Got Schooled By O...   \n",
              "40408       40408  14358  UK queen and husband Philip celebrate 70 years...   \n",
              "\n",
              "                                                    text Label  \\\n",
              "0      MOSCOW/WASHINGTON (Reuters) - The Kremlin-back...     T   \n",
              "1      NEW YORK (Reuters) - U.S. President-elect Dona...     T   \n",
              "2      Global warming has been shoved down the throat...     F   \n",
              "3      Yes, the EPA has a PR department BUT they spen...     F   \n",
              "4      WASHINGTON (Reuters) - President Donald Trump ...     T   \n",
              "...                                                  ...   ...   \n",
              "40404  WASHINGTON (Reuters) - Republican U.S. Senator...     T   \n",
              "40405  Whenever we have a terror attack in America, t...     F   \n",
              "40406  SYDNEY (Reuters) - Three hundred U.S. Marines ...     T   \n",
              "40407  Here is actor Robert John Davi s brilliant let...     F   \n",
              "40408  LONDON (Reuters) - Queen Elizabeth and husband...     T   \n",
              "\n",
              "               subject                date  \\\n",
              "0            worldnews  November 13, 2017    \n",
              "1         politicsNews  November 29, 2016    \n",
              "2      Government News         Oct 5, 2015   \n",
              "3      Government News        Oct 12, 2015   \n",
              "4         politicsNews   January 24, 2017    \n",
              "...                ...                 ...   \n",
              "40404     politicsNews  November 15, 2017    \n",
              "40405        left-news        Aug 14, 2016   \n",
              "40406        worldnews   October 15, 2017    \n",
              "40407         politics        Feb 16, 2017   \n",
              "40408        worldnews  November 20, 2017    \n",
              "\n",
              "                                               Text_proc  \\\n",
              "0      ['back', 'television', 'station', 'register', ...   \n",
              "1      ['set', 'health', 'policy', 'consultant', 'pic...   \n",
              "2      ['global', 'warming', 'shove', 'throat', 'day'...   \n",
              "3      ['yes', 'pr', 'department', 'spend', 'million'...   \n",
              "4      ['stand', 'belief', 'million', 'people', 'vote...   \n",
              "...                                                  ...   \n",
              "40404  ['republican', 'say', 'oppose', 'republican', ...   \n",
              "40405  ['terror', 'attack', 'medium', 'go', 'great', ...   \n",
              "40406  ['fly', 'troop', 'rotation', 'come', 'end', 's...   \n",
              "40407  ['actor', 's', 'brilliant', 'letter', 'expose'...   \n",
              "40408  ['husband', 'mark', 'platinum', 'wedding', 'an...   \n",
              "\n",
              "                                              Title_proc  \n",
              "0                       ['register', 'foreign', 'agent']  \n",
              "1            ['trump', 'pick', 'transition', 'official']  \n",
              "2                             ['make', 'time', 'future']  \n",
              "3      ['outrageous', 'report', 'spending', 'bad', 'p...  \n",
              "4      ['despite', 'evidence', 'say', 'stand', 'voter...  \n",
              "...                                                  ...  \n",
              "40404        ['republican', 'oppose', 'tax', 'proposal']  \n",
              "40405  ['terror', 'attack', 'blame', 'witness', 'desc...  \n",
              "40406          ['hundred', 'leave', 'troop', 'rotation']  \n",
              "40407  ['OUCH', 'leftist', 'got', 'school', 'actor', ...  \n",
              "40408  ['queen', 'husband', 'celebrate', 'year', 'mar...  \n",
              "\n",
              "[40409 rows x 9 columns]"
            ],
            "text/html": [
              "\n",
              "  <div id=\"df-44dc9486-5639-4c60-950f-453314d779be\">\n",
              "    <div class=\"colab-df-container\">\n",
              "      <div>\n",
              "<style scoped>\n",
              "    .dataframe tbody tr th:only-of-type {\n",
              "        vertical-align: middle;\n",
              "    }\n",
              "\n",
              "    .dataframe tbody tr th {\n",
              "        vertical-align: top;\n",
              "    }\n",
              "\n",
              "    .dataframe thead th {\n",
              "        text-align: right;\n",
              "    }\n",
              "</style>\n",
              "<table border=\"1\" class=\"dataframe\">\n",
              "  <thead>\n",
              "    <tr style=\"text-align: right;\">\n",
              "      <th></th>\n",
              "      <th>Unnamed: 0</th>\n",
              "      <th>SNo</th>\n",
              "      <th>title</th>\n",
              "      <th>text</th>\n",
              "      <th>Label</th>\n",
              "      <th>subject</th>\n",
              "      <th>date</th>\n",
              "      <th>Text_proc</th>\n",
              "      <th>Title_proc</th>\n",
              "    </tr>\n",
              "  </thead>\n",
              "  <tbody>\n",
              "    <tr>\n",
              "      <th>0</th>\n",
              "      <td>0</td>\n",
              "      <td>14915</td>\n",
              "      <td>Russia's RT America registers as 'foreign agen...</td>\n",
              "      <td>MOSCOW/WASHINGTON (Reuters) - The Kremlin-back...</td>\n",
              "      <td>T</td>\n",
              "      <td>worldnews</td>\n",
              "      <td>November 13, 2017</td>\n",
              "      <td>['back', 'television', 'station', 'register', ...</td>\n",
              "      <td>['register', 'foreign', 'agent']</td>\n",
              "    </tr>\n",
              "    <tr>\n",
              "      <th>1</th>\n",
              "      <td>1</td>\n",
              "      <td>7023</td>\n",
              "      <td>Trump to pick Seema Verma for Centers for Medi...</td>\n",
              "      <td>NEW YORK (Reuters) - U.S. President-elect Dona...</td>\n",
              "      <td>T</td>\n",
              "      <td>politicsNews</td>\n",
              "      <td>November 29, 2016</td>\n",
              "      <td>['set', 'health', 'policy', 'consultant', 'pic...</td>\n",
              "      <td>['trump', 'pick', 'transition', 'official']</td>\n",
              "    </tr>\n",
              "    <tr>\n",
              "      <th>2</th>\n",
              "      <td>2</td>\n",
              "      <td>17057</td>\n",
              "      <td>Global Warming Scammer Makes Millions BUT Is J...</td>\n",
              "      <td>Global warming has been shoved down the throat...</td>\n",
              "      <td>F</td>\n",
              "      <td>Government News</td>\n",
              "      <td>Oct 5, 2015</td>\n",
              "      <td>['global', 'warming', 'shove', 'throat', 'day'...</td>\n",
              "      <td>['make', 'time', 'future']</td>\n",
              "    </tr>\n",
              "    <tr>\n",
              "      <th>3</th>\n",
              "      <td>3</td>\n",
              "      <td>17047</td>\n",
              "      <td>OUTRAGEOUS REPORT: EPA’s Wasteful Spending On ...</td>\n",
              "      <td>Yes, the EPA has a PR department BUT they spen...</td>\n",
              "      <td>F</td>\n",
              "      <td>Government News</td>\n",
              "      <td>Oct 12, 2015</td>\n",
              "      <td>['yes', 'pr', 'department', 'spend', 'million'...</td>\n",
              "      <td>['outrageous', 'report', 'spending', 'bad', 'p...</td>\n",
              "    </tr>\n",
              "    <tr>\n",
              "      <th>4</th>\n",
              "      <td>4</td>\n",
              "      <td>6056</td>\n",
              "      <td>Despite no evidence, White House says Trump st...</td>\n",
              "      <td>WASHINGTON (Reuters) - President Donald Trump ...</td>\n",
              "      <td>T</td>\n",
              "      <td>politicsNews</td>\n",
              "      <td>January 24, 2017</td>\n",
              "      <td>['stand', 'belief', 'million', 'people', 'vote...</td>\n",
              "      <td>['despite', 'evidence', 'say', 'stand', 'voter...</td>\n",
              "    </tr>\n",
              "    <tr>\n",
              "      <th>...</th>\n",
              "      <td>...</td>\n",
              "      <td>...</td>\n",
              "      <td>...</td>\n",
              "      <td>...</td>\n",
              "      <td>...</td>\n",
              "      <td>...</td>\n",
              "      <td>...</td>\n",
              "      <td>...</td>\n",
              "      <td>...</td>\n",
              "    </tr>\n",
              "    <tr>\n",
              "      <th>40404</th>\n",
              "      <td>40404</td>\n",
              "      <td>624</td>\n",
              "      <td>Republican Senator Johnson opposes Senate tax ...</td>\n",
              "      <td>WASHINGTON (Reuters) - Republican U.S. Senator...</td>\n",
              "      <td>T</td>\n",
              "      <td>politicsNews</td>\n",
              "      <td>November 15, 2017</td>\n",
              "      <td>['republican', 'say', 'oppose', 'republican', ...</td>\n",
              "      <td>['republican', 'oppose', 'tax', 'proposal']</td>\n",
              "    </tr>\n",
              "    <tr>\n",
              "      <th>40405</th>\n",
              "      <td>40405</td>\n",
              "      <td>20123</td>\n",
              "      <td>MUSLIMS SILENT AFTER TERROR ATTACKS…BUT BLAME ...</td>\n",
              "      <td>Whenever we have a terror attack in America, t...</td>\n",
              "      <td>F</td>\n",
              "      <td>left-news</td>\n",
              "      <td>Aug 14, 2016</td>\n",
              "      <td>['terror', 'attack', 'medium', 'go', 'great', ...</td>\n",
              "      <td>['terror', 'attack', 'blame', 'witness', 'desc...</td>\n",
              "    </tr>\n",
              "    <tr>\n",
              "      <th>40406</th>\n",
              "      <td>40406</td>\n",
              "      <td>17452</td>\n",
              "      <td>Hundreds of U.S. Marines leave Australia after...</td>\n",
              "      <td>SYDNEY (Reuters) - Three hundred U.S. Marines ...</td>\n",
              "      <td>T</td>\n",
              "      <td>worldnews</td>\n",
              "      <td>October 15, 2017</td>\n",
              "      <td>['fly', 'troop', 'rotation', 'come', 'end', 's...</td>\n",
              "      <td>['hundred', 'leave', 'troop', 'rotation']</td>\n",
              "    </tr>\n",
              "    <tr>\n",
              "      <th>40407</th>\n",
              "      <td>40407</td>\n",
              "      <td>11645</td>\n",
              "      <td>OUCH! Leftist Hollywood Just Got Schooled By O...</td>\n",
              "      <td>Here is actor Robert John Davi s brilliant let...</td>\n",
              "      <td>F</td>\n",
              "      <td>politics</td>\n",
              "      <td>Feb 16, 2017</td>\n",
              "      <td>['actor', 's', 'brilliant', 'letter', 'expose'...</td>\n",
              "      <td>['OUCH', 'leftist', 'got', 'school', 'actor', ...</td>\n",
              "    </tr>\n",
              "    <tr>\n",
              "      <th>40408</th>\n",
              "      <td>40408</td>\n",
              "      <td>14358</td>\n",
              "      <td>UK queen and husband Philip celebrate 70 years...</td>\n",
              "      <td>LONDON (Reuters) - Queen Elizabeth and husband...</td>\n",
              "      <td>T</td>\n",
              "      <td>worldnews</td>\n",
              "      <td>November 20, 2017</td>\n",
              "      <td>['husband', 'mark', 'platinum', 'wedding', 'an...</td>\n",
              "      <td>['queen', 'husband', 'celebrate', 'year', 'mar...</td>\n",
              "    </tr>\n",
              "  </tbody>\n",
              "</table>\n",
              "<p>40409 rows × 9 columns</p>\n",
              "</div>\n",
              "      <button class=\"colab-df-convert\" onclick=\"convertToInteractive('df-44dc9486-5639-4c60-950f-453314d779be')\"\n",
              "              title=\"Convert this dataframe to an interactive table.\"\n",
              "              style=\"display:none;\">\n",
              "        \n",
              "  <svg xmlns=\"http://www.w3.org/2000/svg\" height=\"24px\"viewBox=\"0 0 24 24\"\n",
              "       width=\"24px\">\n",
              "    <path d=\"M0 0h24v24H0V0z\" fill=\"none\"/>\n",
              "    <path d=\"M18.56 5.44l.94 2.06.94-2.06 2.06-.94-2.06-.94-.94-2.06-.94 2.06-2.06.94zm-11 1L8.5 8.5l.94-2.06 2.06-.94-2.06-.94L8.5 2.5l-.94 2.06-2.06.94zm10 10l.94 2.06.94-2.06 2.06-.94-2.06-.94-.94-2.06-.94 2.06-2.06.94z\"/><path d=\"M17.41 7.96l-1.37-1.37c-.4-.4-.92-.59-1.43-.59-.52 0-1.04.2-1.43.59L10.3 9.45l-7.72 7.72c-.78.78-.78 2.05 0 2.83L4 21.41c.39.39.9.59 1.41.59.51 0 1.02-.2 1.41-.59l7.78-7.78 2.81-2.81c.8-.78.8-2.07 0-2.86zM5.41 20L4 18.59l7.72-7.72 1.47 1.35L5.41 20z\"/>\n",
              "  </svg>\n",
              "      </button>\n",
              "      \n",
              "  <style>\n",
              "    .colab-df-container {\n",
              "      display:flex;\n",
              "      flex-wrap:wrap;\n",
              "      gap: 12px;\n",
              "    }\n",
              "\n",
              "    .colab-df-convert {\n",
              "      background-color: #E8F0FE;\n",
              "      border: none;\n",
              "      border-radius: 50%;\n",
              "      cursor: pointer;\n",
              "      display: none;\n",
              "      fill: #1967D2;\n",
              "      height: 32px;\n",
              "      padding: 0 0 0 0;\n",
              "      width: 32px;\n",
              "    }\n",
              "\n",
              "    .colab-df-convert:hover {\n",
              "      background-color: #E2EBFA;\n",
              "      box-shadow: 0px 1px 2px rgba(60, 64, 67, 0.3), 0px 1px 3px 1px rgba(60, 64, 67, 0.15);\n",
              "      fill: #174EA6;\n",
              "    }\n",
              "\n",
              "    [theme=dark] .colab-df-convert {\n",
              "      background-color: #3B4455;\n",
              "      fill: #D2E3FC;\n",
              "    }\n",
              "\n",
              "    [theme=dark] .colab-df-convert:hover {\n",
              "      background-color: #434B5C;\n",
              "      box-shadow: 0px 1px 3px 1px rgba(0, 0, 0, 0.15);\n",
              "      filter: drop-shadow(0px 1px 2px rgba(0, 0, 0, 0.3));\n",
              "      fill: #FFFFFF;\n",
              "    }\n",
              "  </style>\n",
              "\n",
              "      <script>\n",
              "        const buttonEl =\n",
              "          document.querySelector('#df-44dc9486-5639-4c60-950f-453314d779be button.colab-df-convert');\n",
              "        buttonEl.style.display =\n",
              "          google.colab.kernel.accessAllowed ? 'block' : 'none';\n",
              "\n",
              "        async function convertToInteractive(key) {\n",
              "          const element = document.querySelector('#df-44dc9486-5639-4c60-950f-453314d779be');\n",
              "          const dataTable =\n",
              "            await google.colab.kernel.invokeFunction('convertToInteractive',\n",
              "                                                     [key], {});\n",
              "          if (!dataTable) return;\n",
              "\n",
              "          const docLinkHtml = 'Like what you see? Visit the ' +\n",
              "            '<a target=\"_blank\" href=https://colab.research.google.com/notebooks/data_table.ipynb>data table notebook</a>'\n",
              "            + ' to learn more about interactive tables.';\n",
              "          element.innerHTML = '';\n",
              "          dataTable['output_type'] = 'display_data';\n",
              "          await google.colab.output.renderOutput(dataTable, element);\n",
              "          const docLink = document.createElement('div');\n",
              "          docLink.innerHTML = docLinkHtml;\n",
              "          element.appendChild(docLink);\n",
              "        }\n",
              "      </script>\n",
              "    </div>\n",
              "  </div>\n",
              "  "
            ]
          },
          "metadata": {},
          "execution_count": 3
        }
      ]
    },
    {
      "cell_type": "code",
      "source": [
        "df_TestSet_proc"
      ],
      "metadata": {
        "colab": {
          "base_uri": "https://localhost:8080/",
          "height": 659
        },
        "id": "b8htDTtCOSsw",
        "outputId": "84fecf12-2794-4380-f466-113c24270651"
      },
      "execution_count": 4,
      "outputs": [
        {
          "output_type": "execute_result",
          "data": {
            "text/plain": [
              "      Unnamed: 0    SNo                                              title  \\\n",
              "0              0   3957   Florida LGBT rights push reflects changing times   \n",
              "1              1  13707  Mexico's Meade to seek nomination of ruling PR...   \n",
              "2              2  20993  BEST DESCRIPTION EVER Of Liberalism In One Par...   \n",
              "3              3   2906  Groups see climate science review as chance to...   \n",
              "4              4   2105  Investor Carl Icahn steps down as adviser to P...   \n",
              "...          ...    ...                                                ...   \n",
              "4484        4484  14143  South Africa's Zuma met Zimbabwe's Mnangagwa i...   \n",
              "4485        4485    359   Your Local News Station Might Be Turning Into...   \n",
              "4486        4486   4578  Senate kills rule meant to protect family plan...   \n",
              "4487        4487  20522  Trump calls for a tax reform 'speed-up' in lig...   \n",
              "4488        4488  23160  Finally, Obama Speaks: Americans Need to ‘Reco...   \n",
              "\n",
              "                                                   text Label       subject  \\\n",
              "0     TALLAHASSEE, Fla. (Reuters) - A Republican, a ...     T  politicsNews   \n",
              "1     MEXICO CITY (Reuters) - Mexico s outgoing fina...     T     worldnews   \n",
              "2     The character of the modern Left, and the core...     F     left-news   \n",
              "3     WASHINGTON (Reuters) - The Trump administratio...     T  politicsNews   \n",
              "4     (Reuters) - Billionaire investor Carl Icahn en...     T  politicsNews   \n",
              "...                                                 ...   ...           ...   \n",
              "4484  JOHANNESBURG (Reuters) - South African Preside...     T     worldnews   \n",
              "4485  When Americans think about state-run televisio...     F          News   \n",
              "4486  WASHINGTON (Reuters) - For the second time on ...     T  politicsNews   \n",
              "4487  WASHINGTON (Reuters) - U.S. President Donald T...     T     worldnews   \n",
              "4488  21st Century Wire says There is an amazing sce...     F   Middle-east   \n",
              "\n",
              "                     date                                          Text_proc  \\\n",
              "0            May 2, 2017   ['lobbyist', 'lead', 'business', 'huddle', 'sp...   \n",
              "1      November 27, 2017   ['s', 'outgoing', 'finance', 'minister', 'say'...   \n",
              "2            Feb 16, 2016  ['character', 'modern', 'core', 'censorious', ...   \n",
              "3           July 5, 2017   ['administration', 'soon', 'begin', 'review', ...   \n",
              "4        August 18, 2017   ['investor', 'end', 'role', 'special', 'advise...   \n",
              "...                   ...                                                ...   \n",
              "4484   November 22, 2017   ['south', 'african', 'host', 's', 'vice', 'pre...   \n",
              "4485   September 17, 2017  ['think', 'state', 'run', 'television', 'don',...   \n",
              "4486      March 30, 2017   ['second', 'time', 'take', 'rare', 'step', 'br...   \n",
              "4487  September 10, 2017   ['say', 'ask', 'control', 'speed', 'effort', '...   \n",
              "4488    November 14, 2016  ['say', 'amazing', 'scene', 'unfold', 's', 'co...   \n",
              "\n",
              "                                             Title_proc  \n",
              "0        ['right', 'push', 'reflect', 'change', 'time']  \n",
              "1               ['seek', 'nomination', 'rule', 'party']  \n",
              "2                                         ['paragraph']  \n",
              "3     ['group', 'climate', 'science', 'review', 'cha...  \n",
              "4                       ['investor', 'step', 'adviser']  \n",
              "...                                                 ...  \n",
              "4484                                           ['meet']  \n",
              "4485                    ['turn', 'pro', 'right', 'eye']  \n",
              "4486  ['kill', 'rule', 'mean', 'protect', 'family', ...  \n",
              "4487  ['trump', 'call', 'tax', 'reform', 'speed', 'l...  \n",
              "4488          ['finally', 'speak', 'need', 'reconcile']  \n",
              "\n",
              "[4489 rows x 9 columns]"
            ],
            "text/html": [
              "\n",
              "  <div id=\"df-51876951-1242-4414-b28f-c5572aece55d\">\n",
              "    <div class=\"colab-df-container\">\n",
              "      <div>\n",
              "<style scoped>\n",
              "    .dataframe tbody tr th:only-of-type {\n",
              "        vertical-align: middle;\n",
              "    }\n",
              "\n",
              "    .dataframe tbody tr th {\n",
              "        vertical-align: top;\n",
              "    }\n",
              "\n",
              "    .dataframe thead th {\n",
              "        text-align: right;\n",
              "    }\n",
              "</style>\n",
              "<table border=\"1\" class=\"dataframe\">\n",
              "  <thead>\n",
              "    <tr style=\"text-align: right;\">\n",
              "      <th></th>\n",
              "      <th>Unnamed: 0</th>\n",
              "      <th>SNo</th>\n",
              "      <th>title</th>\n",
              "      <th>text</th>\n",
              "      <th>Label</th>\n",
              "      <th>subject</th>\n",
              "      <th>date</th>\n",
              "      <th>Text_proc</th>\n",
              "      <th>Title_proc</th>\n",
              "    </tr>\n",
              "  </thead>\n",
              "  <tbody>\n",
              "    <tr>\n",
              "      <th>0</th>\n",
              "      <td>0</td>\n",
              "      <td>3957</td>\n",
              "      <td>Florida LGBT rights push reflects changing times</td>\n",
              "      <td>TALLAHASSEE, Fla. (Reuters) - A Republican, a ...</td>\n",
              "      <td>T</td>\n",
              "      <td>politicsNews</td>\n",
              "      <td>May 2, 2017</td>\n",
              "      <td>['lobbyist', 'lead', 'business', 'huddle', 'sp...</td>\n",
              "      <td>['right', 'push', 'reflect', 'change', 'time']</td>\n",
              "    </tr>\n",
              "    <tr>\n",
              "      <th>1</th>\n",
              "      <td>1</td>\n",
              "      <td>13707</td>\n",
              "      <td>Mexico's Meade to seek nomination of ruling PR...</td>\n",
              "      <td>MEXICO CITY (Reuters) - Mexico s outgoing fina...</td>\n",
              "      <td>T</td>\n",
              "      <td>worldnews</td>\n",
              "      <td>November 27, 2017</td>\n",
              "      <td>['s', 'outgoing', 'finance', 'minister', 'say'...</td>\n",
              "      <td>['seek', 'nomination', 'rule', 'party']</td>\n",
              "    </tr>\n",
              "    <tr>\n",
              "      <th>2</th>\n",
              "      <td>2</td>\n",
              "      <td>20993</td>\n",
              "      <td>BEST DESCRIPTION EVER Of Liberalism In One Par...</td>\n",
              "      <td>The character of the modern Left, and the core...</td>\n",
              "      <td>F</td>\n",
              "      <td>left-news</td>\n",
              "      <td>Feb 16, 2016</td>\n",
              "      <td>['character', 'modern', 'core', 'censorious', ...</td>\n",
              "      <td>['paragraph']</td>\n",
              "    </tr>\n",
              "    <tr>\n",
              "      <th>3</th>\n",
              "      <td>3</td>\n",
              "      <td>2906</td>\n",
              "      <td>Groups see climate science review as chance to...</td>\n",
              "      <td>WASHINGTON (Reuters) - The Trump administratio...</td>\n",
              "      <td>T</td>\n",
              "      <td>politicsNews</td>\n",
              "      <td>July 5, 2017</td>\n",
              "      <td>['administration', 'soon', 'begin', 'review', ...</td>\n",
              "      <td>['group', 'climate', 'science', 'review', 'cha...</td>\n",
              "    </tr>\n",
              "    <tr>\n",
              "      <th>4</th>\n",
              "      <td>4</td>\n",
              "      <td>2105</td>\n",
              "      <td>Investor Carl Icahn steps down as adviser to P...</td>\n",
              "      <td>(Reuters) - Billionaire investor Carl Icahn en...</td>\n",
              "      <td>T</td>\n",
              "      <td>politicsNews</td>\n",
              "      <td>August 18, 2017</td>\n",
              "      <td>['investor', 'end', 'role', 'special', 'advise...</td>\n",
              "      <td>['investor', 'step', 'adviser']</td>\n",
              "    </tr>\n",
              "    <tr>\n",
              "      <th>...</th>\n",
              "      <td>...</td>\n",
              "      <td>...</td>\n",
              "      <td>...</td>\n",
              "      <td>...</td>\n",
              "      <td>...</td>\n",
              "      <td>...</td>\n",
              "      <td>...</td>\n",
              "      <td>...</td>\n",
              "      <td>...</td>\n",
              "    </tr>\n",
              "    <tr>\n",
              "      <th>4484</th>\n",
              "      <td>4484</td>\n",
              "      <td>14143</td>\n",
              "      <td>South Africa's Zuma met Zimbabwe's Mnangagwa i...</td>\n",
              "      <td>JOHANNESBURG (Reuters) - South African Preside...</td>\n",
              "      <td>T</td>\n",
              "      <td>worldnews</td>\n",
              "      <td>November 22, 2017</td>\n",
              "      <td>['south', 'african', 'host', 's', 'vice', 'pre...</td>\n",
              "      <td>['meet']</td>\n",
              "    </tr>\n",
              "    <tr>\n",
              "      <th>4485</th>\n",
              "      <td>4485</td>\n",
              "      <td>359</td>\n",
              "      <td>Your Local News Station Might Be Turning Into...</td>\n",
              "      <td>When Americans think about state-run televisio...</td>\n",
              "      <td>F</td>\n",
              "      <td>News</td>\n",
              "      <td>September 17, 2017</td>\n",
              "      <td>['think', 'state', 'run', 'television', 'don',...</td>\n",
              "      <td>['turn', 'pro', 'right', 'eye']</td>\n",
              "    </tr>\n",
              "    <tr>\n",
              "      <th>4486</th>\n",
              "      <td>4486</td>\n",
              "      <td>4578</td>\n",
              "      <td>Senate kills rule meant to protect family plan...</td>\n",
              "      <td>WASHINGTON (Reuters) - For the second time on ...</td>\n",
              "      <td>T</td>\n",
              "      <td>politicsNews</td>\n",
              "      <td>March 30, 2017</td>\n",
              "      <td>['second', 'time', 'take', 'rare', 'step', 'br...</td>\n",
              "      <td>['kill', 'rule', 'mean', 'protect', 'family', ...</td>\n",
              "    </tr>\n",
              "    <tr>\n",
              "      <th>4487</th>\n",
              "      <td>4487</td>\n",
              "      <td>20522</td>\n",
              "      <td>Trump calls for a tax reform 'speed-up' in lig...</td>\n",
              "      <td>WASHINGTON (Reuters) - U.S. President Donald T...</td>\n",
              "      <td>T</td>\n",
              "      <td>worldnews</td>\n",
              "      <td>September 10, 2017</td>\n",
              "      <td>['say', 'ask', 'control', 'speed', 'effort', '...</td>\n",
              "      <td>['trump', 'call', 'tax', 'reform', 'speed', 'l...</td>\n",
              "    </tr>\n",
              "    <tr>\n",
              "      <th>4488</th>\n",
              "      <td>4488</td>\n",
              "      <td>23160</td>\n",
              "      <td>Finally, Obama Speaks: Americans Need to ‘Reco...</td>\n",
              "      <td>21st Century Wire says There is an amazing sce...</td>\n",
              "      <td>F</td>\n",
              "      <td>Middle-east</td>\n",
              "      <td>November 14, 2016</td>\n",
              "      <td>['say', 'amazing', 'scene', 'unfold', 's', 'co...</td>\n",
              "      <td>['finally', 'speak', 'need', 'reconcile']</td>\n",
              "    </tr>\n",
              "  </tbody>\n",
              "</table>\n",
              "<p>4489 rows × 9 columns</p>\n",
              "</div>\n",
              "      <button class=\"colab-df-convert\" onclick=\"convertToInteractive('df-51876951-1242-4414-b28f-c5572aece55d')\"\n",
              "              title=\"Convert this dataframe to an interactive table.\"\n",
              "              style=\"display:none;\">\n",
              "        \n",
              "  <svg xmlns=\"http://www.w3.org/2000/svg\" height=\"24px\"viewBox=\"0 0 24 24\"\n",
              "       width=\"24px\">\n",
              "    <path d=\"M0 0h24v24H0V0z\" fill=\"none\"/>\n",
              "    <path d=\"M18.56 5.44l.94 2.06.94-2.06 2.06-.94-2.06-.94-.94-2.06-.94 2.06-2.06.94zm-11 1L8.5 8.5l.94-2.06 2.06-.94-2.06-.94L8.5 2.5l-.94 2.06-2.06.94zm10 10l.94 2.06.94-2.06 2.06-.94-2.06-.94-.94-2.06-.94 2.06-2.06.94z\"/><path d=\"M17.41 7.96l-1.37-1.37c-.4-.4-.92-.59-1.43-.59-.52 0-1.04.2-1.43.59L10.3 9.45l-7.72 7.72c-.78.78-.78 2.05 0 2.83L4 21.41c.39.39.9.59 1.41.59.51 0 1.02-.2 1.41-.59l7.78-7.78 2.81-2.81c.8-.78.8-2.07 0-2.86zM5.41 20L4 18.59l7.72-7.72 1.47 1.35L5.41 20z\"/>\n",
              "  </svg>\n",
              "      </button>\n",
              "      \n",
              "  <style>\n",
              "    .colab-df-container {\n",
              "      display:flex;\n",
              "      flex-wrap:wrap;\n",
              "      gap: 12px;\n",
              "    }\n",
              "\n",
              "    .colab-df-convert {\n",
              "      background-color: #E8F0FE;\n",
              "      border: none;\n",
              "      border-radius: 50%;\n",
              "      cursor: pointer;\n",
              "      display: none;\n",
              "      fill: #1967D2;\n",
              "      height: 32px;\n",
              "      padding: 0 0 0 0;\n",
              "      width: 32px;\n",
              "    }\n",
              "\n",
              "    .colab-df-convert:hover {\n",
              "      background-color: #E2EBFA;\n",
              "      box-shadow: 0px 1px 2px rgba(60, 64, 67, 0.3), 0px 1px 3px 1px rgba(60, 64, 67, 0.15);\n",
              "      fill: #174EA6;\n",
              "    }\n",
              "\n",
              "    [theme=dark] .colab-df-convert {\n",
              "      background-color: #3B4455;\n",
              "      fill: #D2E3FC;\n",
              "    }\n",
              "\n",
              "    [theme=dark] .colab-df-convert:hover {\n",
              "      background-color: #434B5C;\n",
              "      box-shadow: 0px 1px 3px 1px rgba(0, 0, 0, 0.15);\n",
              "      filter: drop-shadow(0px 1px 2px rgba(0, 0, 0, 0.3));\n",
              "      fill: #FFFFFF;\n",
              "    }\n",
              "  </style>\n",
              "\n",
              "      <script>\n",
              "        const buttonEl =\n",
              "          document.querySelector('#df-51876951-1242-4414-b28f-c5572aece55d button.colab-df-convert');\n",
              "        buttonEl.style.display =\n",
              "          google.colab.kernel.accessAllowed ? 'block' : 'none';\n",
              "\n",
              "        async function convertToInteractive(key) {\n",
              "          const element = document.querySelector('#df-51876951-1242-4414-b28f-c5572aece55d');\n",
              "          const dataTable =\n",
              "            await google.colab.kernel.invokeFunction('convertToInteractive',\n",
              "                                                     [key], {});\n",
              "          if (!dataTable) return;\n",
              "\n",
              "          const docLinkHtml = 'Like what you see? Visit the ' +\n",
              "            '<a target=\"_blank\" href=https://colab.research.google.com/notebooks/data_table.ipynb>data table notebook</a>'\n",
              "            + ' to learn more about interactive tables.';\n",
              "          element.innerHTML = '';\n",
              "          dataTable['output_type'] = 'display_data';\n",
              "          await google.colab.output.renderOutput(dataTable, element);\n",
              "          const docLink = document.createElement('div');\n",
              "          docLink.innerHTML = docLinkHtml;\n",
              "          element.appendChild(docLink);\n",
              "        }\n",
              "      </script>\n",
              "    </div>\n",
              "  </div>\n",
              "  "
            ]
          },
          "metadata": {},
          "execution_count": 4
        }
      ]
    },
    {
      "cell_type": "code",
      "source": [
        "import ast\n",
        "df_TrainSet_proc['Text_proc']=df_TrainSet_proc['Text_proc'].apply(lambda x: ast.literal_eval(x))\n",
        "df_TrainSet_proc['Title_proc']=df_TrainSet_proc['Title_proc'].apply(lambda x: ast.literal_eval(x))\n",
        "df_TestSet_proc['Text_proc']=df_TestSet_proc['Text_proc'].apply(lambda x: ast.literal_eval(x))\n",
        "df_TestSet_proc['Title_proc']=df_TestSet_proc['Title_proc'].apply(lambda x: ast.literal_eval(x))"
      ],
      "metadata": {
        "id": "XDDGzk0cd-bw"
      },
      "execution_count": 5,
      "outputs": []
    },
    {
      "cell_type": "code",
      "source": [
        "df_TrainSet_proc.Label.value_counts()"
      ],
      "metadata": {
        "colab": {
          "base_uri": "https://localhost:8080/"
        },
        "id": "cm2FOL580qQL",
        "outputId": "fae01cde-a601-438f-c4a6-bdefed3ae026"
      },
      "execution_count": null,
      "outputs": [
        {
          "output_type": "execute_result",
          "data": {
            "text/plain": [
              "F    21133\n",
              "T    19276\n",
              "Name: Label, dtype: int64"
            ]
          },
          "metadata": {},
          "execution_count": 85
        }
      ]
    },
    {
      "cell_type": "code",
      "source": [
        "df_TestSet_proc.Label.value_counts()"
      ],
      "metadata": {
        "colab": {
          "base_uri": "https://localhost:8080/"
        },
        "id": "gm9DJ2D125WO",
        "outputId": "25e44d14-cc6e-48be-d2c1-1cab0d999edb"
      },
      "execution_count": null,
      "outputs": [
        {
          "output_type": "execute_result",
          "data": {
            "text/plain": [
              "F    2348\n",
              "T    2141\n",
              "Name: Label, dtype: int64"
            ]
          },
          "metadata": {},
          "execution_count": 96
        }
      ]
    },
    {
      "cell_type": "code",
      "source": [
        "df_TrainSet_proc['Label'] = df_TrainSet_proc.Label.eq('T').mul(1)"
      ],
      "metadata": {
        "id": "F5RXYi3I4h8s"
      },
      "execution_count": 32,
      "outputs": []
    },
    {
      "cell_type": "code",
      "source": [
        "df_TrainSet_proc.Label.value_counts()"
      ],
      "metadata": {
        "colab": {
          "base_uri": "https://localhost:8080/"
        },
        "id": "8kzwS0Li40wL",
        "outputId": "fe050921-a2cb-4473-b278-f26b1f299ad5"
      },
      "execution_count": 34,
      "outputs": [
        {
          "output_type": "execute_result",
          "data": {
            "text/plain": [
              "0    21133\n",
              "1    19276\n",
              "Name: Label, dtype: int64"
            ]
          },
          "metadata": {},
          "execution_count": 34
        }
      ]
    },
    {
      "cell_type": "code",
      "source": [
        "df_TestSet_proc['Label'] = df_TestSet_proc.Label.eq('T').mul(1)"
      ],
      "metadata": {
        "id": "h0GVXzNi4lws"
      },
      "execution_count": 35,
      "outputs": []
    },
    {
      "cell_type": "code",
      "source": [
        "df_TestSet_proc.Label.value_counts()"
      ],
      "metadata": {
        "colab": {
          "base_uri": "https://localhost:8080/"
        },
        "id": "3cQe8cl_5HNA",
        "outputId": "947a7e8d-0916-4bb5-97c5-ebeac942227b"
      },
      "execution_count": 36,
      "outputs": [
        {
          "output_type": "execute_result",
          "data": {
            "text/plain": [
              "0    2348\n",
              "1    2141\n",
              "Name: Label, dtype: int64"
            ]
          },
          "metadata": {},
          "execution_count": 36
        }
      ]
    },
    {
      "cell_type": "code",
      "source": [
        "import torch\n",
        "\n",
        "# If there's a GPU available...\n",
        "if torch.cuda.is_available():    \n",
        "\n",
        "    # Tell PyTorch to use the GPU.    \n",
        "    device = torch.device(\"cuda\")\n",
        "\n",
        "    print('There are %d GPU(s) available.' % torch.cuda.device_count())\n",
        "\n",
        "    print('We will use the GPU:', torch.cuda.get_device_name(0))\n",
        "\n",
        "# If not...\n",
        "else:\n",
        "    print('No GPU available, using the CPU instead.')\n",
        "    device = torch.device(\"cpu\")\n"
      ],
      "metadata": {
        "colab": {
          "base_uri": "https://localhost:8080/"
        },
        "id": "_DUffRG4iULQ",
        "outputId": "d61edc45-29ea-4e82-8efc-bdd15f9ce73f"
      },
      "execution_count": 37,
      "outputs": [
        {
          "output_type": "stream",
          "name": "stdout",
          "text": [
            "There are 1 GPU(s) available.\n",
            "We will use the GPU: Tesla T4\n"
          ]
        }
      ]
    },
    {
      "cell_type": "markdown",
      "source": [
        "## Vectorize using TFIDF"
      ],
      "metadata": {
        "id": "0PRA5vxJeQdf"
      }
    },
    {
      "cell_type": "code",
      "source": [
        "df_TrainSet_proc[['Text_proc', 'Title_proc']]"
      ],
      "metadata": {
        "colab": {
          "base_uri": "https://localhost:8080/",
          "height": 424
        },
        "id": "x2Vrm7lSlchR",
        "outputId": "a1c5c75e-aec5-4a90-f06f-363b1f643c27"
      },
      "execution_count": 38,
      "outputs": [
        {
          "output_type": "execute_result",
          "data": {
            "text/plain": [
              "                                               Text_proc  \\\n",
              "0      [back, television, station, register, foreign,...   \n",
              "1      [set, health, policy, consultant, pick, admini...   \n",
              "2      [global, warming, shove, throat, day, take, of...   \n",
              "3      [yes, pr, department, spend, million, outside,...   \n",
              "4      [stand, belief, million, people, vote, illegal...   \n",
              "...                                                  ...   \n",
              "40404  [republican, say, oppose, republican, tax, pro...   \n",
              "40405  [terror, attack, medium, go, great, length, su...   \n",
              "40406  [fly, troop, rotation, come, end, strong, forc...   \n",
              "40407  [actor, s, brilliant, letter, expose, utter, h...   \n",
              "40408  [husband, mark, platinum, wedding, anniversary...   \n",
              "\n",
              "                                              Title_proc  \n",
              "0                             [register, foreign, agent]  \n",
              "1                    [trump, pick, transition, official]  \n",
              "2                                   [make, time, future]  \n",
              "3      [outrageous, report, spending, bad, pr, campai...  \n",
              "4      [despite, evidence, say, stand, voter, fraud, ...  \n",
              "...                                                  ...  \n",
              "40404                [republican, oppose, tax, proposal]  \n",
              "40405  [terror, attack, blame, witness, description, ...  \n",
              "40406                  [hundred, leave, troop, rotation]  \n",
              "40407  [OUCH, leftist, got, school, actor, write, sug...  \n",
              "40408  [queen, husband, celebrate, year, marriage, qu...  \n",
              "\n",
              "[40409 rows x 2 columns]"
            ],
            "text/html": [
              "\n",
              "  <div id=\"df-b767e7ef-fc30-4d17-ac92-12c9a4a87db8\">\n",
              "    <div class=\"colab-df-container\">\n",
              "      <div>\n",
              "<style scoped>\n",
              "    .dataframe tbody tr th:only-of-type {\n",
              "        vertical-align: middle;\n",
              "    }\n",
              "\n",
              "    .dataframe tbody tr th {\n",
              "        vertical-align: top;\n",
              "    }\n",
              "\n",
              "    .dataframe thead th {\n",
              "        text-align: right;\n",
              "    }\n",
              "</style>\n",
              "<table border=\"1\" class=\"dataframe\">\n",
              "  <thead>\n",
              "    <tr style=\"text-align: right;\">\n",
              "      <th></th>\n",
              "      <th>Text_proc</th>\n",
              "      <th>Title_proc</th>\n",
              "    </tr>\n",
              "  </thead>\n",
              "  <tbody>\n",
              "    <tr>\n",
              "      <th>0</th>\n",
              "      <td>[back, television, station, register, foreign,...</td>\n",
              "      <td>[register, foreign, agent]</td>\n",
              "    </tr>\n",
              "    <tr>\n",
              "      <th>1</th>\n",
              "      <td>[set, health, policy, consultant, pick, admini...</td>\n",
              "      <td>[trump, pick, transition, official]</td>\n",
              "    </tr>\n",
              "    <tr>\n",
              "      <th>2</th>\n",
              "      <td>[global, warming, shove, throat, day, take, of...</td>\n",
              "      <td>[make, time, future]</td>\n",
              "    </tr>\n",
              "    <tr>\n",
              "      <th>3</th>\n",
              "      <td>[yes, pr, department, spend, million, outside,...</td>\n",
              "      <td>[outrageous, report, spending, bad, pr, campai...</td>\n",
              "    </tr>\n",
              "    <tr>\n",
              "      <th>4</th>\n",
              "      <td>[stand, belief, million, people, vote, illegal...</td>\n",
              "      <td>[despite, evidence, say, stand, voter, fraud, ...</td>\n",
              "    </tr>\n",
              "    <tr>\n",
              "      <th>...</th>\n",
              "      <td>...</td>\n",
              "      <td>...</td>\n",
              "    </tr>\n",
              "    <tr>\n",
              "      <th>40404</th>\n",
              "      <td>[republican, say, oppose, republican, tax, pro...</td>\n",
              "      <td>[republican, oppose, tax, proposal]</td>\n",
              "    </tr>\n",
              "    <tr>\n",
              "      <th>40405</th>\n",
              "      <td>[terror, attack, medium, go, great, length, su...</td>\n",
              "      <td>[terror, attack, blame, witness, description, ...</td>\n",
              "    </tr>\n",
              "    <tr>\n",
              "      <th>40406</th>\n",
              "      <td>[fly, troop, rotation, come, end, strong, forc...</td>\n",
              "      <td>[hundred, leave, troop, rotation]</td>\n",
              "    </tr>\n",
              "    <tr>\n",
              "      <th>40407</th>\n",
              "      <td>[actor, s, brilliant, letter, expose, utter, h...</td>\n",
              "      <td>[OUCH, leftist, got, school, actor, write, sug...</td>\n",
              "    </tr>\n",
              "    <tr>\n",
              "      <th>40408</th>\n",
              "      <td>[husband, mark, platinum, wedding, anniversary...</td>\n",
              "      <td>[queen, husband, celebrate, year, marriage, qu...</td>\n",
              "    </tr>\n",
              "  </tbody>\n",
              "</table>\n",
              "<p>40409 rows × 2 columns</p>\n",
              "</div>\n",
              "      <button class=\"colab-df-convert\" onclick=\"convertToInteractive('df-b767e7ef-fc30-4d17-ac92-12c9a4a87db8')\"\n",
              "              title=\"Convert this dataframe to an interactive table.\"\n",
              "              style=\"display:none;\">\n",
              "        \n",
              "  <svg xmlns=\"http://www.w3.org/2000/svg\" height=\"24px\"viewBox=\"0 0 24 24\"\n",
              "       width=\"24px\">\n",
              "    <path d=\"M0 0h24v24H0V0z\" fill=\"none\"/>\n",
              "    <path d=\"M18.56 5.44l.94 2.06.94-2.06 2.06-.94-2.06-.94-.94-2.06-.94 2.06-2.06.94zm-11 1L8.5 8.5l.94-2.06 2.06-.94-2.06-.94L8.5 2.5l-.94 2.06-2.06.94zm10 10l.94 2.06.94-2.06 2.06-.94-2.06-.94-.94-2.06-.94 2.06-2.06.94z\"/><path d=\"M17.41 7.96l-1.37-1.37c-.4-.4-.92-.59-1.43-.59-.52 0-1.04.2-1.43.59L10.3 9.45l-7.72 7.72c-.78.78-.78 2.05 0 2.83L4 21.41c.39.39.9.59 1.41.59.51 0 1.02-.2 1.41-.59l7.78-7.78 2.81-2.81c.8-.78.8-2.07 0-2.86zM5.41 20L4 18.59l7.72-7.72 1.47 1.35L5.41 20z\"/>\n",
              "  </svg>\n",
              "      </button>\n",
              "      \n",
              "  <style>\n",
              "    .colab-df-container {\n",
              "      display:flex;\n",
              "      flex-wrap:wrap;\n",
              "      gap: 12px;\n",
              "    }\n",
              "\n",
              "    .colab-df-convert {\n",
              "      background-color: #E8F0FE;\n",
              "      border: none;\n",
              "      border-radius: 50%;\n",
              "      cursor: pointer;\n",
              "      display: none;\n",
              "      fill: #1967D2;\n",
              "      height: 32px;\n",
              "      padding: 0 0 0 0;\n",
              "      width: 32px;\n",
              "    }\n",
              "\n",
              "    .colab-df-convert:hover {\n",
              "      background-color: #E2EBFA;\n",
              "      box-shadow: 0px 1px 2px rgba(60, 64, 67, 0.3), 0px 1px 3px 1px rgba(60, 64, 67, 0.15);\n",
              "      fill: #174EA6;\n",
              "    }\n",
              "\n",
              "    [theme=dark] .colab-df-convert {\n",
              "      background-color: #3B4455;\n",
              "      fill: #D2E3FC;\n",
              "    }\n",
              "\n",
              "    [theme=dark] .colab-df-convert:hover {\n",
              "      background-color: #434B5C;\n",
              "      box-shadow: 0px 1px 3px 1px rgba(0, 0, 0, 0.15);\n",
              "      filter: drop-shadow(0px 1px 2px rgba(0, 0, 0, 0.3));\n",
              "      fill: #FFFFFF;\n",
              "    }\n",
              "  </style>\n",
              "\n",
              "      <script>\n",
              "        const buttonEl =\n",
              "          document.querySelector('#df-b767e7ef-fc30-4d17-ac92-12c9a4a87db8 button.colab-df-convert');\n",
              "        buttonEl.style.display =\n",
              "          google.colab.kernel.accessAllowed ? 'block' : 'none';\n",
              "\n",
              "        async function convertToInteractive(key) {\n",
              "          const element = document.querySelector('#df-b767e7ef-fc30-4d17-ac92-12c9a4a87db8');\n",
              "          const dataTable =\n",
              "            await google.colab.kernel.invokeFunction('convertToInteractive',\n",
              "                                                     [key], {});\n",
              "          if (!dataTable) return;\n",
              "\n",
              "          const docLinkHtml = 'Like what you see? Visit the ' +\n",
              "            '<a target=\"_blank\" href=https://colab.research.google.com/notebooks/data_table.ipynb>data table notebook</a>'\n",
              "            + ' to learn more about interactive tables.';\n",
              "          element.innerHTML = '';\n",
              "          dataTable['output_type'] = 'display_data';\n",
              "          await google.colab.output.renderOutput(dataTable, element);\n",
              "          const docLink = document.createElement('div');\n",
              "          docLink.innerHTML = docLinkHtml;\n",
              "          element.appendChild(docLink);\n",
              "        }\n",
              "      </script>\n",
              "    </div>\n",
              "  </div>\n",
              "  "
            ]
          },
          "metadata": {},
          "execution_count": 38
        }
      ]
    },
    {
      "cell_type": "code",
      "source": [
        "df_TrainSet_proc[\"Data_proc\"] = df_TrainSet_proc['Text_proc']+df_TrainSet_proc[\"Title_proc\"]\n",
        "df_TestSet_proc[\"Data_proc\"] = df_TestSet_proc['Text_proc']+df_TestSet_proc[\"Title_proc\"]"
      ],
      "metadata": {
        "id": "t6lBOW6Hmgqp"
      },
      "execution_count": 39,
      "outputs": []
    },
    {
      "cell_type": "code",
      "source": [
        "from sklearn.feature_extraction.text import TfidfVectorizer\n",
        "tfidfvectorizer = TfidfVectorizer(preprocessor=' '.join,stop_words='english', lowercase=False)\n",
        "Train_vectorised = tfidfvectorizer.fit_transform(df_TrainSet_proc['Data_proc'].tolist())\n",
        "Test_vectorised = tfidfvectorizer.transform(df_TestSet_proc['Data_proc'].tolist())"
      ],
      "metadata": {
        "id": "UlWhDcmaeFpE"
      },
      "execution_count": 40,
      "outputs": []
    },
    {
      "cell_type": "code",
      "source": [
        "#Clear CUDA cache\n",
        "import gc\n",
        "\n",
        "gc.collect()\n",
        "\n",
        "torch.cuda.empty_cache()"
      ],
      "metadata": {
        "id": "q6p8FUiePVoA"
      },
      "execution_count": 41,
      "outputs": []
    },
    {
      "cell_type": "code",
      "source": [
        "tfidf_tokens = tfidfvectorizer.get_feature_names()\n",
        "#df_train_tfidfvect = pd.DataFrame(data = Train_vectorised.toarray(),columns = tfidf_tokens)"
      ],
      "metadata": {
        "colab": {
          "base_uri": "https://localhost:8080/"
        },
        "id": "au5Bq7jslo17",
        "outputId": "09ac1b8e-4a0c-4e65-e828-e94ecf3fc308"
      },
      "execution_count": 42,
      "outputs": [
        {
          "output_type": "stream",
          "name": "stderr",
          "text": [
            "/usr/local/lib/python3.7/dist-packages/sklearn/utils/deprecation.py:87: FutureWarning: Function get_feature_names is deprecated; get_feature_names is deprecated in 1.0 and will be removed in 1.2. Please use get_feature_names_out instead.\n",
            "  warnings.warn(msg, category=FutureWarning)\n"
          ]
        }
      ]
    },
    {
      "cell_type": "code",
      "source": [
        "Train_vectorised.shape"
      ],
      "metadata": {
        "colab": {
          "base_uri": "https://localhost:8080/"
        },
        "id": "-lR6JkjYmF8D",
        "outputId": "68d37d01-c1a3-4aa0-b7d4-cbc46049bd5d"
      },
      "execution_count": 43,
      "outputs": [
        {
          "output_type": "execute_result",
          "data": {
            "text/plain": [
              "(40409, 38846)"
            ]
          },
          "metadata": {},
          "execution_count": 43
        }
      ]
    },
    {
      "cell_type": "code",
      "source": [
        "Test_vectorised.shape"
      ],
      "metadata": {
        "colab": {
          "base_uri": "https://localhost:8080/"
        },
        "id": "VKAlbLriQO7O",
        "outputId": "03cc079e-47c5-4158-c02c-9b482c25a35c"
      },
      "execution_count": 44,
      "outputs": [
        {
          "output_type": "execute_result",
          "data": {
            "text/plain": [
              "(4489, 38846)"
            ]
          },
          "metadata": {},
          "execution_count": 44
        }
      ]
    },
    {
      "cell_type": "markdown",
      "source": [
        "## Logistic Model"
      ],
      "metadata": {
        "id": "OuIEFoHKjXpV"
      }
    },
    {
      "cell_type": "code",
      "source": [
        "from sklearn.linear_model import LogisticRegression\n",
        "from sklearn.model_selection import cross_val_score, StratifiedKFold"
      ],
      "metadata": {
        "id": "PaVnwI-WLzeA"
      },
      "execution_count": 45,
      "outputs": []
    },
    {
      "cell_type": "code",
      "source": [
        "logit_reg = LogisticRegression(C=5e1, solver='sag', random_state=17)\n"
      ],
      "metadata": {
        "id": "rTgeUmnEQWwr"
      },
      "execution_count": 46,
      "outputs": []
    },
    {
      "cell_type": "code",
      "source": [
        "skf = StratifiedKFold(n_splits=5, shuffle=True, random_state=17)\n",
        "cv_results = cross_val_score(logit_reg, Train_vectorised, df_TrainSet_proc['Label'], cv=skf, scoring='f1_micro')"
      ],
      "metadata": {
        "colab": {
          "base_uri": "https://localhost:8080/"
        },
        "id": "ZlYZR0KuQ_H6",
        "outputId": "f8f319db-1d8a-4604-bcb4-fabe731bede2"
      },
      "execution_count": 47,
      "outputs": [
        {
          "output_type": "stream",
          "name": "stderr",
          "text": [
            "/usr/local/lib/python3.7/dist-packages/sklearn/linear_model/_sag.py:354: ConvergenceWarning: The max_iter was reached which means the coef_ did not converge\n",
            "  ConvergenceWarning,\n",
            "/usr/local/lib/python3.7/dist-packages/sklearn/linear_model/_sag.py:354: ConvergenceWarning: The max_iter was reached which means the coef_ did not converge\n",
            "  ConvergenceWarning,\n",
            "/usr/local/lib/python3.7/dist-packages/sklearn/linear_model/_sag.py:354: ConvergenceWarning: The max_iter was reached which means the coef_ did not converge\n",
            "  ConvergenceWarning,\n"
          ]
        }
      ]
    },
    {
      "cell_type": "code",
      "source": [
        "cv_results, cv_results.mean()"
      ],
      "metadata": {
        "colab": {
          "base_uri": "https://localhost:8080/"
        },
        "id": "T1gBMvirRefj",
        "outputId": "c3514106-ff15-4d25-a948-8d1cbd2bf570"
      },
      "execution_count": 48,
      "outputs": [
        {
          "output_type": "execute_result",
          "data": {
            "text/plain": [
              "(array([0.9844098 , 0.98366741, 0.98082158, 0.98032665, 0.98193293]),\n",
              " 0.9822316736681289)"
            ]
          },
          "metadata": {},
          "execution_count": 48
        }
      ]
    },
    {
      "cell_type": "code",
      "source": [
        "fit_model = logit_reg.fit(Train_vectorised, df_TrainSet_proc['Label'])\n"
      ],
      "metadata": {
        "colab": {
          "base_uri": "https://localhost:8080/"
        },
        "id": "cejXoCjqRqmS",
        "outputId": "6adc4f71-fa97-473e-c7a3-9904ad116ec4"
      },
      "execution_count": 49,
      "outputs": [
        {
          "output_type": "stream",
          "name": "stderr",
          "text": [
            "/usr/local/lib/python3.7/dist-packages/sklearn/linear_model/_sag.py:354: ConvergenceWarning: The max_iter was reached which means the coef_ did not converge\n",
            "  ConvergenceWarning,\n"
          ]
        }
      ]
    },
    {
      "cell_type": "code",
      "source": [
        "test_preds = fit_model.predict(Test_vectorised)"
      ],
      "metadata": {
        "id": "zWW9_xusR3Nd"
      },
      "execution_count": 50,
      "outputs": []
    },
    {
      "cell_type": "code",
      "source": [
        "test_preds"
      ],
      "metadata": {
        "colab": {
          "base_uri": "https://localhost:8080/"
        },
        "id": "L2xQKl48R8hD",
        "outputId": "bab1a057-4dce-4626-ada9-2c18d30d3a03"
      },
      "execution_count": 51,
      "outputs": [
        {
          "output_type": "execute_result",
          "data": {
            "text/plain": [
              "array([1, 1, 0, ..., 1, 1, 0])"
            ]
          },
          "metadata": {},
          "execution_count": 51
        }
      ]
    },
    {
      "cell_type": "code",
      "source": [
        "df_TestSet_proc['Label'].to_numpy()"
      ],
      "metadata": {
        "colab": {
          "base_uri": "https://localhost:8080/"
        },
        "id": "k1lXrJSDUHc1",
        "outputId": "52757c13-4400-4e07-a4b7-344bd67739f3"
      },
      "execution_count": 52,
      "outputs": [
        {
          "output_type": "execute_result",
          "data": {
            "text/plain": [
              "array([1, 1, 0, ..., 1, 1, 0])"
            ]
          },
          "metadata": {},
          "execution_count": 52
        }
      ]
    },
    {
      "cell_type": "markdown",
      "source": [
        "## Metrics of logistic Regression Model"
      ],
      "metadata": {
        "id": "puFcZA4Lxx2B"
      }
    },
    {
      "cell_type": "code",
      "source": [
        "print(logit_reg.coef_, logit_reg.intercept_)"
      ],
      "metadata": {
        "colab": {
          "base_uri": "https://localhost:8080/"
        },
        "id": "YvhRgauYxmxi",
        "outputId": "ebb73142-86fe-413e-eaad-592f31cfda22"
      },
      "execution_count": 53,
      "outputs": [
        {
          "output_type": "stream",
          "name": "stdout",
          "text": [
            "[[ 0.00447284 -0.00176292 -0.00746859 ...  0.03870324  0.03445975\n",
            "   0.00011753]] [-0.47171538]\n"
          ]
        }
      ]
    },
    {
      "cell_type": "code",
      "source": [
        "import sklearn\n",
        "acc = sklearn.metrics.accuracy_score(df_TestSet_proc['Label'].to_numpy(),test_preds)"
      ],
      "metadata": {
        "id": "XJfcUXtuUDzY"
      },
      "execution_count": 54,
      "outputs": []
    },
    {
      "cell_type": "code",
      "source": [
        "print('The accuracy for logictic regression when predicted on test set is', acc)"
      ],
      "metadata": {
        "colab": {
          "base_uri": "https://localhost:8080/"
        },
        "id": "WGgqk90cUXYt",
        "outputId": "41bf609f-adea-4ae5-cab8-3e2ecd85f306"
      },
      "execution_count": 55,
      "outputs": [
        {
          "output_type": "stream",
          "name": "stdout",
          "text": [
            "The accuracy for logictic regression when predicted on test set is 0.9830697259968812\n"
          ]
        }
      ]
    },
    {
      "cell_type": "code",
      "source": [
        "from sklearn.metrics import f1_score\n",
        "print('The F1-micro score for logictic regression when predicted on test set is', f1_score(df_TestSet_proc['Label'].to_numpy(), test_preds, average='micro'))"
      ],
      "metadata": {
        "colab": {
          "base_uri": "https://localhost:8080/"
        },
        "id": "fsx0K_OQVl7U",
        "outputId": "74819505-520b-43de-9366-23a955609ac8"
      },
      "execution_count": 56,
      "outputs": [
        {
          "output_type": "stream",
          "name": "stdout",
          "text": [
            "The F1-micro score for logictic regression when predicted on test set is 0.9830697259968812\n"
          ]
        }
      ]
    },
    {
      "cell_type": "code",
      "source": [
        "f1_score(df_TestSet_proc['Label'].to_numpy(), test_preds)"
      ],
      "metadata": {
        "colab": {
          "base_uri": "https://localhost:8080/"
        },
        "id": "qiFzOzNzpqgi",
        "outputId": "9b7f880b-b06f-43e2-e67a-da89f184ad97"
      },
      "execution_count": 66,
      "outputs": [
        {
          "output_type": "execute_result",
          "data": {
            "text/plain": [
              "0.9821260583254938"
            ]
          },
          "metadata": {},
          "execution_count": 66
        }
      ]
    },
    {
      "cell_type": "code",
      "source": [
        "from sklearn.metrics import precision_score\n",
        "precision = precision_score(df_TestSet_proc['Label'].to_numpy(), test_preds, average='binary')\n",
        "print('Precision: %.3f' % precision)"
      ],
      "metadata": {
        "colab": {
          "base_uri": "https://localhost:8080/"
        },
        "id": "aPXtD4qL1a7i",
        "outputId": "5f078aac-bbe0-488e-bd2c-88917e7ef474"
      },
      "execution_count": 58,
      "outputs": [
        {
          "output_type": "stream",
          "name": "stdout",
          "text": [
            "Precision: 0.989\n"
          ]
        }
      ]
    },
    {
      "cell_type": "code",
      "source": [
        "from sklearn.metrics import recall_score\n",
        "recall_score(df_TestSet_proc['Label'].to_numpy(), test_preds)"
      ],
      "metadata": {
        "colab": {
          "base_uri": "https://localhost:8080/"
        },
        "id": "JwhnlSiJ11j8",
        "outputId": "8c6f957c-2e83-4b42-a28e-c5c99f631172"
      },
      "execution_count": 62,
      "outputs": [
        {
          "output_type": "execute_result",
          "data": {
            "text/plain": [
              "0.9752452125175152"
            ]
          },
          "metadata": {},
          "execution_count": 62
        }
      ]
    },
    {
      "cell_type": "markdown",
      "source": [
        "## Graphs"
      ],
      "metadata": {
        "id": "sjgWfs9tyyCJ"
      }
    },
    {
      "cell_type": "code",
      "source": [
        "import matplotlib.pyplot as plt\n",
        "import numpy as np\n",
        "\n",
        "y = np.array([21133/(21133+19276),19276/(21133+19276)])\n",
        "mylabels = ['Real News','Fake News']\n",
        "myexplode = [0.1, 0]\n",
        "plt.figure(figsize = (15, 7), facecolor = None)\n",
        "plt.pie(y, labels = mylabels, explode = myexplode, shadow = True, startangle = 90)\n",
        "plt.legend()\n",
        "plt.title('Distribution of train data')\n",
        "plt.show() "
      ],
      "metadata": {
        "colab": {
          "base_uri": "https://localhost:8080/",
          "height": 427
        },
        "id": "KTXTaCP4yz1b",
        "outputId": "4ce9d522-bff2-44c0-e6ff-76b7e089bc36"
      },
      "execution_count": 60,
      "outputs": [
        {
          "output_type": "display_data",
          "data": {
            "text/plain": [
              "<Figure size 1080x504 with 1 Axes>"
            ],
            "image/png": "[encoded data removed]"
          },
          "metadata": {}
        }
      ]
    },
    {
      "cell_type": "code",
      "source": [
        "x = np.array([ 1,  2,  3,  4,  5])\n",
        "y = cv_results\n",
        " \n",
        "# Plotting the Graph\n",
        "plt.plot(x, y)\n",
        "plt.title(\"Curve showing stratified cross validation results\")\n",
        "plt.xlabel(\"Number of iterations\")\n",
        "plt.ylabel(\"F1 Score\")\n",
        "plt.show()"
      ],
      "metadata": {
        "colab": {
          "base_uri": "https://localhost:8080/",
          "height": 295
        },
        "id": "TFamV1Et11CI",
        "outputId": "0c1b60ae-2a00-44c0-f42e-a7e9c5dc4aba"
      },
      "execution_count": 65,
      "outputs": [
        {
          "output_type": "display_data",
          "data": {
            "text/plain": [
              "<Figure size 432x288 with 1 Axes>"
            ],
            "image/png": "[encoded data removed]"
          },
          "metadata": {
            "needs_background": "light"
          }
        }
      ]
    },
    {
      "cell_type": "code",
      "source": [
        "from sklearn.metrics import plot_confusion_matrix\n",
        "plot_confusion_matrix(logit_reg, Test_vectorised, df_TestSet_proc['Label'].to_numpy()) "
      ],
      "metadata": {
        "colab": {
          "base_uri": "https://localhost:8080/",
          "height": 353
        },
        "id": "6s8PzgaD3kAX",
        "outputId": "ba2e1df8-1617-48ca-bbb2-2904afdfae51"
      },
      "execution_count": 63,
      "outputs": [
        {
          "output_type": "stream",
          "name": "stderr",
          "text": [
            "/usr/local/lib/python3.7/dist-packages/sklearn/utils/deprecation.py:87: FutureWarning: Function plot_confusion_matrix is deprecated; Function `plot_confusion_matrix` is deprecated in 1.0 and will be removed in 1.2. Use one of the class methods: ConfusionMatrixDisplay.from_predictions or ConfusionMatrixDisplay.from_estimator.\n",
            "  warnings.warn(msg, category=FutureWarning)\n"
          ]
        },
        {
          "output_type": "execute_result",
          "data": {
            "text/plain": [
              "<sklearn.metrics._plot.confusion_matrix.ConfusionMatrixDisplay at 0x7f8bb389bc50>"
            ]
          },
          "metadata": {},
          "execution_count": 63
        },
        {
          "output_type": "display_data",
          "data": {
            "text/plain": [
              "<Figure size 432x288 with 2 Axes>"
            ],
            "image/png": "[encoded data removed]"
          },
          "metadata": {
            "needs_background": "light"
          }
        }
      ]
    },
    {
      "cell_type": "code",
      "source": [
        "import pandas as pd\n",
        "import seaborn as sns\n",
        "from sklearn.metrics import classification_report\n",
        "evaluation_report = classification_report(df_TestSet_proc['Label'].to_numpy(), test_preds, output_dict=True, zero_division=1)\n",
        "sns.heatmap(pd.DataFrame(evaluation_report).iloc[:-1, :].T, annot=True)"
      ],
      "metadata": {
        "colab": {
          "base_uri": "https://localhost:8080/",
          "height": 284
        },
        "id": "37EFjUE4yz3y",
        "outputId": "ef769639-a251-4416-9237-af7d19d0fbac"
      },
      "execution_count": 64,
      "outputs": [
        {
          "output_type": "execute_result",
          "data": {
            "text/plain": [
              "<matplotlib.axes._subplots.AxesSubplot at 0x7f8bb3b44bd0>"
            ]
          },
          "metadata": {},
          "execution_count": 64
        },
        {
          "output_type": "display_data",
          "data": {
            "text/plain": [
              "<Figure size 432x288 with 2 Axes>"
            ],
            "image/png": "[encoded data removed]"
          },
          "metadata": {
            "needs_background": "light"
          }
        }
      ]
    },
    {
      "cell_type": "code",
      "source": [
        ""
      ],
      "metadata": {
        "id": "D9GlJskt6i6j"
      },
      "execution_count": null,
      "outputs": []
    },
    {
      "cell_type": "code",
      "source": [
        ""
      ],
      "metadata": {
        "id": "UNoDo4wb6i9b"
      },
      "execution_count": null,
      "outputs": []
    },
    {
      "cell_type": "code",
      "source": [
        ""
      ],
      "metadata": {
        "id": "NlMP6MZg6i_2"
      },
      "execution_count": null,
      "outputs": []
    },
    {
      "cell_type": "code",
      "source": [
        ""
      ],
      "metadata": {
        "id": "I-llw_h_6jCZ"
      },
      "execution_count": null,
      "outputs": []
    }
  ]
}