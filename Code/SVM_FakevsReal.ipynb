{
  "nbformat": 4,
  "nbformat_minor": 0,
  "metadata": {
    "colab": {
      "name": "SVM_FakevsReal.ipynb",
      "provenance": [],
      "collapsed_sections": []
    },
    "kernelspec": {
      "name": "python3",
      "display_name": "Python 3"
    },
    "language_info": {
      "name": "python"
    },
    "accelerator": "GPU",
    "gpuClass": "standard"
  },
  "cells": [
    {
      "cell_type": "code",
      "execution_count": 2,
      "metadata": {
        "colab": {
          "base_uri": "https://localhost:8080/"
        },
        "id": "eDBMzaS5ddi6",
        "outputId": "bb615271-bf0d-4123-bed3-cc057ec96320"
      },
      "outputs": [
        {
          "output_type": "stream",
          "name": "stdout",
          "text": [
            "Drive already mounted at /content/drive; to attempt to forcibly remount, call drive.mount(\"/content/drive\", force_remount=True).\n"
          ]
        }
      ],
      "source": [
        "from google.colab import drive\n",
        "drive.mount('/content/drive')\n",
        "filepath = '/content/drive/MyDrive/542_Summer/FinalProject'"
      ]
    },
    {
      "cell_type": "code",
      "source": [
        "import pandas as pd\n",
        "df_TrainSet_proc = pd.read_csv(filepath+'/TrainProcessed.csv') \n",
        "df_TestSet_proc = pd.read_csv(filepath+'/TestProcessed.csv') "
      ],
      "metadata": {
        "id": "8RUD8LAAdzvy"
      },
      "execution_count": 3,
      "outputs": []
    },
    {
      "cell_type": "code",
      "source": [
        "df_TrainSet_proc"
      ],
      "metadata": {
        "colab": {
          "base_uri": "https://localhost:8080/",
          "height": 676
        },
        "id": "XxxV52y0MhnS",
        "outputId": "c963f049-a017-4b2b-d41a-980c00cecbe2"
      },
      "execution_count": 4,
      "outputs": [
        {
          "output_type": "execute_result",
          "data": {
            "text/plain": [
              "       Unnamed: 0    SNo                                              title  \\\n",
              "0               0  14915  Russia's RT America registers as 'foreign agen...   \n",
              "1               1   7023  Trump to pick Seema Verma for Centers for Medi...   \n",
              "2               2  17057  Global Warming Scammer Makes Millions BUT Is J...   \n",
              "3               3  17047  OUTRAGEOUS REPORT: EPA’s Wasteful Spending On ...   \n",
              "4               4   6056  Despite no evidence, White House says Trump st...   \n",
              "...           ...    ...                                                ...   \n",
              "40404       40404    624  Republican Senator Johnson opposes Senate tax ...   \n",
              "40405       40405  20123  MUSLIMS SILENT AFTER TERROR ATTACKS…BUT BLAME ...   \n",
              "40406       40406  17452  Hundreds of U.S. Marines leave Australia after...   \n",
              "40407       40407  11645  OUCH! Leftist Hollywood Just Got Schooled By O...   \n",
              "40408       40408  14358  UK queen and husband Philip celebrate 70 years...   \n",
              "\n",
              "                                                    text Label  \\\n",
              "0      MOSCOW/WASHINGTON (Reuters) - The Kremlin-back...     T   \n",
              "1      NEW YORK (Reuters) - U.S. President-elect Dona...     T   \n",
              "2      Global warming has been shoved down the throat...     F   \n",
              "3      Yes, the EPA has a PR department BUT they spen...     F   \n",
              "4      WASHINGTON (Reuters) - President Donald Trump ...     T   \n",
              "...                                                  ...   ...   \n",
              "40404  WASHINGTON (Reuters) - Republican U.S. Senator...     T   \n",
              "40405  Whenever we have a terror attack in America, t...     F   \n",
              "40406  SYDNEY (Reuters) - Three hundred U.S. Marines ...     T   \n",
              "40407  Here is actor Robert John Davi s brilliant let...     F   \n",
              "40408  LONDON (Reuters) - Queen Elizabeth and husband...     T   \n",
              "\n",
              "               subject                date  \\\n",
              "0            worldnews  November 13, 2017    \n",
              "1         politicsNews  November 29, 2016    \n",
              "2      Government News         Oct 5, 2015   \n",
              "3      Government News        Oct 12, 2015   \n",
              "4         politicsNews   January 24, 2017    \n",
              "...                ...                 ...   \n",
              "40404     politicsNews  November 15, 2017    \n",
              "40405        left-news        Aug 14, 2016   \n",
              "40406        worldnews   October 15, 2017    \n",
              "40407         politics        Feb 16, 2017   \n",
              "40408        worldnews  November 20, 2017    \n",
              "\n",
              "                                               Text_proc  \\\n",
              "0      ['back', 'television', 'station', 'register', ...   \n",
              "1      ['set', 'health', 'policy', 'consultant', 'pic...   \n",
              "2      ['global', 'warming', 'shove', 'throat', 'day'...   \n",
              "3      ['yes', 'pr', 'department', 'spend', 'million'...   \n",
              "4      ['stand', 'belief', 'million', 'people', 'vote...   \n",
              "...                                                  ...   \n",
              "40404  ['republican', 'say', 'oppose', 'republican', ...   \n",
              "40405  ['terror', 'attack', 'medium', 'go', 'great', ...   \n",
              "40406  ['fly', 'troop', 'rotation', 'come', 'end', 's...   \n",
              "40407  ['actor', 's', 'brilliant', 'letter', 'expose'...   \n",
              "40408  ['husband', 'mark', 'platinum', 'wedding', 'an...   \n",
              "\n",
              "                                              Title_proc  \n",
              "0                       ['register', 'foreign', 'agent']  \n",
              "1            ['trump', 'pick', 'transition', 'official']  \n",
              "2                             ['make', 'time', 'future']  \n",
              "3      ['outrageous', 'report', 'spending', 'bad', 'p...  \n",
              "4      ['despite', 'evidence', 'say', 'stand', 'voter...  \n",
              "...                                                  ...  \n",
              "40404        ['republican', 'oppose', 'tax', 'proposal']  \n",
              "40405  ['terror', 'attack', 'blame', 'witness', 'desc...  \n",
              "40406          ['hundred', 'leave', 'troop', 'rotation']  \n",
              "40407  ['OUCH', 'leftist', 'got', 'school', 'actor', ...  \n",
              "40408  ['queen', 'husband', 'celebrate', 'year', 'mar...  \n",
              "\n",
              "[40409 rows x 9 columns]"
            ],
            "text/html": [
              "\n",
              "  <div id=\"df-70f8f751-dfbd-4efc-9e85-056f609ce61f\">\n",
              "    <div class=\"colab-df-container\">\n",
              "      <div>\n",
              "<style scoped>\n",
              "    .dataframe tbody tr th:only-of-type {\n",
              "        vertical-align: middle;\n",
              "    }\n",
              "\n",
              "    .dataframe tbody tr th {\n",
              "        vertical-align: top;\n",
              "    }\n",
              "\n",
              "    .dataframe thead th {\n",
              "        text-align: right;\n",
              "    }\n",
              "</style>\n",
              "<table border=\"1\" class=\"dataframe\">\n",
              "  <thead>\n",
              "    <tr style=\"text-align: right;\">\n",
              "      <th></th>\n",
              "      <th>Unnamed: 0</th>\n",
              "      <th>SNo</th>\n",
              "      <th>title</th>\n",
              "      <th>text</th>\n",
              "      <th>Label</th>\n",
              "      <th>subject</th>\n",
              "      <th>date</th>\n",
              "      <th>Text_proc</th>\n",
              "      <th>Title_proc</th>\n",
              "    </tr>\n",
              "  </thead>\n",
              "  <tbody>\n",
              "    <tr>\n",
              "      <th>0</th>\n",
              "      <td>0</td>\n",
              "      <td>14915</td>\n",
              "      <td>Russia's RT America registers as 'foreign agen...</td>\n",
              "      <td>MOSCOW/WASHINGTON (Reuters) - The Kremlin-back...</td>\n",
              "      <td>T</td>\n",
              "      <td>worldnews</td>\n",
              "      <td>November 13, 2017</td>\n",
              "      <td>['back', 'television', 'station', 'register', ...</td>\n",
              "      <td>['register', 'foreign', 'agent']</td>\n",
              "    </tr>\n",
              "    <tr>\n",
              "      <th>1</th>\n",
              "      <td>1</td>\n",
              "      <td>7023</td>\n",
              "      <td>Trump to pick Seema Verma for Centers for Medi...</td>\n",
              "      <td>NEW YORK (Reuters) - U.S. President-elect Dona...</td>\n",
              "      <td>T</td>\n",
              "      <td>politicsNews</td>\n",
              "      <td>November 29, 2016</td>\n",
              "      <td>['set', 'health', 'policy', 'consultant', 'pic...</td>\n",
              "      <td>['trump', 'pick', 'transition', 'official']</td>\n",
              "    </tr>\n",
              "    <tr>\n",
              "      <th>2</th>\n",
              "      <td>2</td>\n",
              "      <td>17057</td>\n",
              "      <td>Global Warming Scammer Makes Millions BUT Is J...</td>\n",
              "      <td>Global warming has been shoved down the throat...</td>\n",
              "      <td>F</td>\n",
              "      <td>Government News</td>\n",
              "      <td>Oct 5, 2015</td>\n",
              "      <td>['global', 'warming', 'shove', 'throat', 'day'...</td>\n",
              "      <td>['make', 'time', 'future']</td>\n",
              "    </tr>\n",
              "    <tr>\n",
              "      <th>3</th>\n",
              "      <td>3</td>\n",
              "      <td>17047</td>\n",
              "      <td>OUTRAGEOUS REPORT: EPA’s Wasteful Spending On ...</td>\n",
              "      <td>Yes, the EPA has a PR department BUT they spen...</td>\n",
              "      <td>F</td>\n",
              "      <td>Government News</td>\n",
              "      <td>Oct 12, 2015</td>\n",
              "      <td>['yes', 'pr', 'department', 'spend', 'million'...</td>\n",
              "      <td>['outrageous', 'report', 'spending', 'bad', 'p...</td>\n",
              "    </tr>\n",
              "    <tr>\n",
              "      <th>4</th>\n",
              "      <td>4</td>\n",
              "      <td>6056</td>\n",
              "      <td>Despite no evidence, White House says Trump st...</td>\n",
              "      <td>WASHINGTON (Reuters) - President Donald Trump ...</td>\n",
              "      <td>T</td>\n",
              "      <td>politicsNews</td>\n",
              "      <td>January 24, 2017</td>\n",
              "      <td>['stand', 'belief', 'million', 'people', 'vote...</td>\n",
              "      <td>['despite', 'evidence', 'say', 'stand', 'voter...</td>\n",
              "    </tr>\n",
              "    <tr>\n",
              "      <th>...</th>\n",
              "      <td>...</td>\n",
              "      <td>...</td>\n",
              "      <td>...</td>\n",
              "      <td>...</td>\n",
              "      <td>...</td>\n",
              "      <td>...</td>\n",
              "      <td>...</td>\n",
              "      <td>...</td>\n",
              "      <td>...</td>\n",
              "    </tr>\n",
              "    <tr>\n",
              "      <th>40404</th>\n",
              "      <td>40404</td>\n",
              "      <td>624</td>\n",
              "      <td>Republican Senator Johnson opposes Senate tax ...</td>\n",
              "      <td>WASHINGTON (Reuters) - Republican U.S. Senator...</td>\n",
              "      <td>T</td>\n",
              "      <td>politicsNews</td>\n",
              "      <td>November 15, 2017</td>\n",
              "      <td>['republican', 'say', 'oppose', 'republican', ...</td>\n",
              "      <td>['republican', 'oppose', 'tax', 'proposal']</td>\n",
              "    </tr>\n",
              "    <tr>\n",
              "      <th>40405</th>\n",
              "      <td>40405</td>\n",
              "      <td>20123</td>\n",
              "      <td>MUSLIMS SILENT AFTER TERROR ATTACKS…BUT BLAME ...</td>\n",
              "      <td>Whenever we have a terror attack in America, t...</td>\n",
              "      <td>F</td>\n",
              "      <td>left-news</td>\n",
              "      <td>Aug 14, 2016</td>\n",
              "      <td>['terror', 'attack', 'medium', 'go', 'great', ...</td>\n",
              "      <td>['terror', 'attack', 'blame', 'witness', 'desc...</td>\n",
              "    </tr>\n",
              "    <tr>\n",
              "      <th>40406</th>\n",
              "      <td>40406</td>\n",
              "      <td>17452</td>\n",
              "      <td>Hundreds of U.S. Marines leave Australia after...</td>\n",
              "      <td>SYDNEY (Reuters) - Three hundred U.S. Marines ...</td>\n",
              "      <td>T</td>\n",
              "      <td>worldnews</td>\n",
              "      <td>October 15, 2017</td>\n",
              "      <td>['fly', 'troop', 'rotation', 'come', 'end', 's...</td>\n",
              "      <td>['hundred', 'leave', 'troop', 'rotation']</td>\n",
              "    </tr>\n",
              "    <tr>\n",
              "      <th>40407</th>\n",
              "      <td>40407</td>\n",
              "      <td>11645</td>\n",
              "      <td>OUCH! Leftist Hollywood Just Got Schooled By O...</td>\n",
              "      <td>Here is actor Robert John Davi s brilliant let...</td>\n",
              "      <td>F</td>\n",
              "      <td>politics</td>\n",
              "      <td>Feb 16, 2017</td>\n",
              "      <td>['actor', 's', 'brilliant', 'letter', 'expose'...</td>\n",
              "      <td>['OUCH', 'leftist', 'got', 'school', 'actor', ...</td>\n",
              "    </tr>\n",
              "    <tr>\n",
              "      <th>40408</th>\n",
              "      <td>40408</td>\n",
              "      <td>14358</td>\n",
              "      <td>UK queen and husband Philip celebrate 70 years...</td>\n",
              "      <td>LONDON (Reuters) - Queen Elizabeth and husband...</td>\n",
              "      <td>T</td>\n",
              "      <td>worldnews</td>\n",
              "      <td>November 20, 2017</td>\n",
              "      <td>['husband', 'mark', 'platinum', 'wedding', 'an...</td>\n",
              "      <td>['queen', 'husband', 'celebrate', 'year', 'mar...</td>\n",
              "    </tr>\n",
              "  </tbody>\n",
              "</table>\n",
              "<p>40409 rows × 9 columns</p>\n",
              "</div>\n",
              "      <button class=\"colab-df-convert\" onclick=\"convertToInteractive('df-70f8f751-dfbd-4efc-9e85-056f609ce61f')\"\n",
              "              title=\"Convert this dataframe to an interactive table.\"\n",
              "              style=\"display:none;\">\n",
              "        \n",
              "  <svg xmlns=\"http://www.w3.org/2000/svg\" height=\"24px\"viewBox=\"0 0 24 24\"\n",
              "       width=\"24px\">\n",
              "    <path d=\"M0 0h24v24H0V0z\" fill=\"none\"/>\n",
              "    <path d=\"M18.56 5.44l.94 2.06.94-2.06 2.06-.94-2.06-.94-.94-2.06-.94 2.06-2.06.94zm-11 1L8.5 8.5l.94-2.06 2.06-.94-2.06-.94L8.5 2.5l-.94 2.06-2.06.94zm10 10l.94 2.06.94-2.06 2.06-.94-2.06-.94-.94-2.06-.94 2.06-2.06.94z\"/><path d=\"M17.41 7.96l-1.37-1.37c-.4-.4-.92-.59-1.43-.59-.52 0-1.04.2-1.43.59L10.3 9.45l-7.72 7.72c-.78.78-.78 2.05 0 2.83L4 21.41c.39.39.9.59 1.41.59.51 0 1.02-.2 1.41-.59l7.78-7.78 2.81-2.81c.8-.78.8-2.07 0-2.86zM5.41 20L4 18.59l7.72-7.72 1.47 1.35L5.41 20z\"/>\n",
              "  </svg>\n",
              "      </button>\n",
              "      \n",
              "  <style>\n",
              "    .colab-df-container {\n",
              "      display:flex;\n",
              "      flex-wrap:wrap;\n",
              "      gap: 12px;\n",
              "    }\n",
              "\n",
              "    .colab-df-convert {\n",
              "      background-color: #E8F0FE;\n",
              "      border: none;\n",
              "      border-radius: 50%;\n",
              "      cursor: pointer;\n",
              "      display: none;\n",
              "      fill: #1967D2;\n",
              "      height: 32px;\n",
              "      padding: 0 0 0 0;\n",
              "      width: 32px;\n",
              "    }\n",
              "\n",
              "    .colab-df-convert:hover {\n",
              "      background-color: #E2EBFA;\n",
              "      box-shadow: 0px 1px 2px rgba(60, 64, 67, 0.3), 0px 1px 3px 1px rgba(60, 64, 67, 0.15);\n",
              "      fill: #174EA6;\n",
              "    }\n",
              "\n",
              "    [theme=dark] .colab-df-convert {\n",
              "      background-color: #3B4455;\n",
              "      fill: #D2E3FC;\n",
              "    }\n",
              "\n",
              "    [theme=dark] .colab-df-convert:hover {\n",
              "      background-color: #434B5C;\n",
              "      box-shadow: 0px 1px 3px 1px rgba(0, 0, 0, 0.15);\n",
              "      filter: drop-shadow(0px 1px 2px rgba(0, 0, 0, 0.3));\n",
              "      fill: #FFFFFF;\n",
              "    }\n",
              "  </style>\n",
              "\n",
              "      <script>\n",
              "        const buttonEl =\n",
              "          document.querySelector('#df-70f8f751-dfbd-4efc-9e85-056f609ce61f button.colab-df-convert');\n",
              "        buttonEl.style.display =\n",
              "          google.colab.kernel.accessAllowed ? 'block' : 'none';\n",
              "\n",
              "        async function convertToInteractive(key) {\n",
              "          const element = document.querySelector('#df-70f8f751-dfbd-4efc-9e85-056f609ce61f');\n",
              "          const dataTable =\n",
              "            await google.colab.kernel.invokeFunction('convertToInteractive',\n",
              "                                                     [key], {});\n",
              "          if (!dataTable) return;\n",
              "\n",
              "          const docLinkHtml = 'Like what you see? Visit the ' +\n",
              "            '<a target=\"_blank\" href=https://colab.research.google.com/notebooks/data_table.ipynb>data table notebook</a>'\n",
              "            + ' to learn more about interactive tables.';\n",
              "          element.innerHTML = '';\n",
              "          dataTable['output_type'] = 'display_data';\n",
              "          await google.colab.output.renderOutput(dataTable, element);\n",
              "          const docLink = document.createElement('div');\n",
              "          docLink.innerHTML = docLinkHtml;\n",
              "          element.appendChild(docLink);\n",
              "        }\n",
              "      </script>\n",
              "    </div>\n",
              "  </div>\n",
              "  "
            ]
          },
          "metadata": {},
          "execution_count": 4
        }
      ]
    },
    {
      "cell_type": "code",
      "source": [
        "df_TestSet_proc"
      ],
      "metadata": {
        "colab": {
          "base_uri": "https://localhost:8080/",
          "height": 659
        },
        "id": "b8htDTtCOSsw",
        "outputId": "4a1e091d-ed44-487b-fa85-d32c1cd3085b"
      },
      "execution_count": 5,
      "outputs": [
        {
          "output_type": "execute_result",
          "data": {
            "text/plain": [
              "      Unnamed: 0    SNo                                              title  \\\n",
              "0              0   3957   Florida LGBT rights push reflects changing times   \n",
              "1              1  13707  Mexico's Meade to seek nomination of ruling PR...   \n",
              "2              2  20993  BEST DESCRIPTION EVER Of Liberalism In One Par...   \n",
              "3              3   2906  Groups see climate science review as chance to...   \n",
              "4              4   2105  Investor Carl Icahn steps down as adviser to P...   \n",
              "...          ...    ...                                                ...   \n",
              "4484        4484  14143  South Africa's Zuma met Zimbabwe's Mnangagwa i...   \n",
              "4485        4485    359   Your Local News Station Might Be Turning Into...   \n",
              "4486        4486   4578  Senate kills rule meant to protect family plan...   \n",
              "4487        4487  20522  Trump calls for a tax reform 'speed-up' in lig...   \n",
              "4488        4488  23160  Finally, Obama Speaks: Americans Need to ‘Reco...   \n",
              "\n",
              "                                                   text Label       subject  \\\n",
              "0     TALLAHASSEE, Fla. (Reuters) - A Republican, a ...     T  politicsNews   \n",
              "1     MEXICO CITY (Reuters) - Mexico s outgoing fina...     T     worldnews   \n",
              "2     The character of the modern Left, and the core...     F     left-news   \n",
              "3     WASHINGTON (Reuters) - The Trump administratio...     T  politicsNews   \n",
              "4     (Reuters) - Billionaire investor Carl Icahn en...     T  politicsNews   \n",
              "...                                                 ...   ...           ...   \n",
              "4484  JOHANNESBURG (Reuters) - South African Preside...     T     worldnews   \n",
              "4485  When Americans think about state-run televisio...     F          News   \n",
              "4486  WASHINGTON (Reuters) - For the second time on ...     T  politicsNews   \n",
              "4487  WASHINGTON (Reuters) - U.S. President Donald T...     T     worldnews   \n",
              "4488  21st Century Wire says There is an amazing sce...     F   Middle-east   \n",
              "\n",
              "                     date                                          Text_proc  \\\n",
              "0            May 2, 2017   ['lobbyist', 'lead', 'business', 'huddle', 'sp...   \n",
              "1      November 27, 2017   ['s', 'outgoing', 'finance', 'minister', 'say'...   \n",
              "2            Feb 16, 2016  ['character', 'modern', 'core', 'censorious', ...   \n",
              "3           July 5, 2017   ['administration', 'soon', 'begin', 'review', ...   \n",
              "4        August 18, 2017   ['investor', 'end', 'role', 'special', 'advise...   \n",
              "...                   ...                                                ...   \n",
              "4484   November 22, 2017   ['south', 'african', 'host', 's', 'vice', 'pre...   \n",
              "4485   September 17, 2017  ['think', 'state', 'run', 'television', 'don',...   \n",
              "4486      March 30, 2017   ['second', 'time', 'take', 'rare', 'step', 'br...   \n",
              "4487  September 10, 2017   ['say', 'ask', 'control', 'speed', 'effort', '...   \n",
              "4488    November 14, 2016  ['say', 'amazing', 'scene', 'unfold', 's', 'co...   \n",
              "\n",
              "                                             Title_proc  \n",
              "0        ['right', 'push', 'reflect', 'change', 'time']  \n",
              "1               ['seek', 'nomination', 'rule', 'party']  \n",
              "2                                         ['paragraph']  \n",
              "3     ['group', 'climate', 'science', 'review', 'cha...  \n",
              "4                       ['investor', 'step', 'adviser']  \n",
              "...                                                 ...  \n",
              "4484                                           ['meet']  \n",
              "4485                    ['turn', 'pro', 'right', 'eye']  \n",
              "4486  ['kill', 'rule', 'mean', 'protect', 'family', ...  \n",
              "4487  ['trump', 'call', 'tax', 'reform', 'speed', 'l...  \n",
              "4488          ['finally', 'speak', 'need', 'reconcile']  \n",
              "\n",
              "[4489 rows x 9 columns]"
            ],
            "text/html": [
              "\n",
              "  <div id=\"df-aa32d6f4-4979-4ce0-88e5-07bb5517373a\">\n",
              "    <div class=\"colab-df-container\">\n",
              "      <div>\n",
              "<style scoped>\n",
              "    .dataframe tbody tr th:only-of-type {\n",
              "        vertical-align: middle;\n",
              "    }\n",
              "\n",
              "    .dataframe tbody tr th {\n",
              "        vertical-align: top;\n",
              "    }\n",
              "\n",
              "    .dataframe thead th {\n",
              "        text-align: right;\n",
              "    }\n",
              "</style>\n",
              "<table border=\"1\" class=\"dataframe\">\n",
              "  <thead>\n",
              "    <tr style=\"text-align: right;\">\n",
              "      <th></th>\n",
              "      <th>Unnamed: 0</th>\n",
              "      <th>SNo</th>\n",
              "      <th>title</th>\n",
              "      <th>text</th>\n",
              "      <th>Label</th>\n",
              "      <th>subject</th>\n",
              "      <th>date</th>\n",
              "      <th>Text_proc</th>\n",
              "      <th>Title_proc</th>\n",
              "    </tr>\n",
              "  </thead>\n",
              "  <tbody>\n",
              "    <tr>\n",
              "      <th>0</th>\n",
              "      <td>0</td>\n",
              "      <td>3957</td>\n",
              "      <td>Florida LGBT rights push reflects changing times</td>\n",
              "      <td>TALLAHASSEE, Fla. (Reuters) - A Republican, a ...</td>\n",
              "      <td>T</td>\n",
              "      <td>politicsNews</td>\n",
              "      <td>May 2, 2017</td>\n",
              "      <td>['lobbyist', 'lead', 'business', 'huddle', 'sp...</td>\n",
              "      <td>['right', 'push', 'reflect', 'change', 'time']</td>\n",
              "    </tr>\n",
              "    <tr>\n",
              "      <th>1</th>\n",
              "      <td>1</td>\n",
              "      <td>13707</td>\n",
              "      <td>Mexico's Meade to seek nomination of ruling PR...</td>\n",
              "      <td>MEXICO CITY (Reuters) - Mexico s outgoing fina...</td>\n",
              "      <td>T</td>\n",
              "      <td>worldnews</td>\n",
              "      <td>November 27, 2017</td>\n",
              "      <td>['s', 'outgoing', 'finance', 'minister', 'say'...</td>\n",
              "      <td>['seek', 'nomination', 'rule', 'party']</td>\n",
              "    </tr>\n",
              "    <tr>\n",
              "      <th>2</th>\n",
              "      <td>2</td>\n",
              "      <td>20993</td>\n",
              "      <td>BEST DESCRIPTION EVER Of Liberalism In One Par...</td>\n",
              "      <td>The character of the modern Left, and the core...</td>\n",
              "      <td>F</td>\n",
              "      <td>left-news</td>\n",
              "      <td>Feb 16, 2016</td>\n",
              "      <td>['character', 'modern', 'core', 'censorious', ...</td>\n",
              "      <td>['paragraph']</td>\n",
              "    </tr>\n",
              "    <tr>\n",
              "      <th>3</th>\n",
              "      <td>3</td>\n",
              "      <td>2906</td>\n",
              "      <td>Groups see climate science review as chance to...</td>\n",
              "      <td>WASHINGTON (Reuters) - The Trump administratio...</td>\n",
              "      <td>T</td>\n",
              "      <td>politicsNews</td>\n",
              "      <td>July 5, 2017</td>\n",
              "      <td>['administration', 'soon', 'begin', 'review', ...</td>\n",
              "      <td>['group', 'climate', 'science', 'review', 'cha...</td>\n",
              "    </tr>\n",
              "    <tr>\n",
              "      <th>4</th>\n",
              "      <td>4</td>\n",
              "      <td>2105</td>\n",
              "      <td>Investor Carl Icahn steps down as adviser to P...</td>\n",
              "      <td>(Reuters) - Billionaire investor Carl Icahn en...</td>\n",
              "      <td>T</td>\n",
              "      <td>politicsNews</td>\n",
              "      <td>August 18, 2017</td>\n",
              "      <td>['investor', 'end', 'role', 'special', 'advise...</td>\n",
              "      <td>['investor', 'step', 'adviser']</td>\n",
              "    </tr>\n",
              "    <tr>\n",
              "      <th>...</th>\n",
              "      <td>...</td>\n",
              "      <td>...</td>\n",
              "      <td>...</td>\n",
              "      <td>...</td>\n",
              "      <td>...</td>\n",
              "      <td>...</td>\n",
              "      <td>...</td>\n",
              "      <td>...</td>\n",
              "      <td>...</td>\n",
              "    </tr>\n",
              "    <tr>\n",
              "      <th>4484</th>\n",
              "      <td>4484</td>\n",
              "      <td>14143</td>\n",
              "      <td>South Africa's Zuma met Zimbabwe's Mnangagwa i...</td>\n",
              "      <td>JOHANNESBURG (Reuters) - South African Preside...</td>\n",
              "      <td>T</td>\n",
              "      <td>worldnews</td>\n",
              "      <td>November 22, 2017</td>\n",
              "      <td>['south', 'african', 'host', 's', 'vice', 'pre...</td>\n",
              "      <td>['meet']</td>\n",
              "    </tr>\n",
              "    <tr>\n",
              "      <th>4485</th>\n",
              "      <td>4485</td>\n",
              "      <td>359</td>\n",
              "      <td>Your Local News Station Might Be Turning Into...</td>\n",
              "      <td>When Americans think about state-run televisio...</td>\n",
              "      <td>F</td>\n",
              "      <td>News</td>\n",
              "      <td>September 17, 2017</td>\n",
              "      <td>['think', 'state', 'run', 'television', 'don',...</td>\n",
              "      <td>['turn', 'pro', 'right', 'eye']</td>\n",
              "    </tr>\n",
              "    <tr>\n",
              "      <th>4486</th>\n",
              "      <td>4486</td>\n",
              "      <td>4578</td>\n",
              "      <td>Senate kills rule meant to protect family plan...</td>\n",
              "      <td>WASHINGTON (Reuters) - For the second time on ...</td>\n",
              "      <td>T</td>\n",
              "      <td>politicsNews</td>\n",
              "      <td>March 30, 2017</td>\n",
              "      <td>['second', 'time', 'take', 'rare', 'step', 'br...</td>\n",
              "      <td>['kill', 'rule', 'mean', 'protect', 'family', ...</td>\n",
              "    </tr>\n",
              "    <tr>\n",
              "      <th>4487</th>\n",
              "      <td>4487</td>\n",
              "      <td>20522</td>\n",
              "      <td>Trump calls for a tax reform 'speed-up' in lig...</td>\n",
              "      <td>WASHINGTON (Reuters) - U.S. President Donald T...</td>\n",
              "      <td>T</td>\n",
              "      <td>worldnews</td>\n",
              "      <td>September 10, 2017</td>\n",
              "      <td>['say', 'ask', 'control', 'speed', 'effort', '...</td>\n",
              "      <td>['trump', 'call', 'tax', 'reform', 'speed', 'l...</td>\n",
              "    </tr>\n",
              "    <tr>\n",
              "      <th>4488</th>\n",
              "      <td>4488</td>\n",
              "      <td>23160</td>\n",
              "      <td>Finally, Obama Speaks: Americans Need to ‘Reco...</td>\n",
              "      <td>21st Century Wire says There is an amazing sce...</td>\n",
              "      <td>F</td>\n",
              "      <td>Middle-east</td>\n",
              "      <td>November 14, 2016</td>\n",
              "      <td>['say', 'amazing', 'scene', 'unfold', 's', 'co...</td>\n",
              "      <td>['finally', 'speak', 'need', 'reconcile']</td>\n",
              "    </tr>\n",
              "  </tbody>\n",
              "</table>\n",
              "<p>4489 rows × 9 columns</p>\n",
              "</div>\n",
              "      <button class=\"colab-df-convert\" onclick=\"convertToInteractive('df-aa32d6f4-4979-4ce0-88e5-07bb5517373a')\"\n",
              "              title=\"Convert this dataframe to an interactive table.\"\n",
              "              style=\"display:none;\">\n",
              "        \n",
              "  <svg xmlns=\"http://www.w3.org/2000/svg\" height=\"24px\"viewBox=\"0 0 24 24\"\n",
              "       width=\"24px\">\n",
              "    <path d=\"M0 0h24v24H0V0z\" fill=\"none\"/>\n",
              "    <path d=\"M18.56 5.44l.94 2.06.94-2.06 2.06-.94-2.06-.94-.94-2.06-.94 2.06-2.06.94zm-11 1L8.5 8.5l.94-2.06 2.06-.94-2.06-.94L8.5 2.5l-.94 2.06-2.06.94zm10 10l.94 2.06.94-2.06 2.06-.94-2.06-.94-.94-2.06-.94 2.06-2.06.94z\"/><path d=\"M17.41 7.96l-1.37-1.37c-.4-.4-.92-.59-1.43-.59-.52 0-1.04.2-1.43.59L10.3 9.45l-7.72 7.72c-.78.78-.78 2.05 0 2.83L4 21.41c.39.39.9.59 1.41.59.51 0 1.02-.2 1.41-.59l7.78-7.78 2.81-2.81c.8-.78.8-2.07 0-2.86zM5.41 20L4 18.59l7.72-7.72 1.47 1.35L5.41 20z\"/>\n",
              "  </svg>\n",
              "      </button>\n",
              "      \n",
              "  <style>\n",
              "    .colab-df-container {\n",
              "      display:flex;\n",
              "      flex-wrap:wrap;\n",
              "      gap: 12px;\n",
              "    }\n",
              "\n",
              "    .colab-df-convert {\n",
              "      background-color: #E8F0FE;\n",
              "      border: none;\n",
              "      border-radius: 50%;\n",
              "      cursor: pointer;\n",
              "      display: none;\n",
              "      fill: #1967D2;\n",
              "      height: 32px;\n",
              "      padding: 0 0 0 0;\n",
              "      width: 32px;\n",
              "    }\n",
              "\n",
              "    .colab-df-convert:hover {\n",
              "      background-color: #E2EBFA;\n",
              "      box-shadow: 0px 1px 2px rgba(60, 64, 67, 0.3), 0px 1px 3px 1px rgba(60, 64, 67, 0.15);\n",
              "      fill: #174EA6;\n",
              "    }\n",
              "\n",
              "    [theme=dark] .colab-df-convert {\n",
              "      background-color: #3B4455;\n",
              "      fill: #D2E3FC;\n",
              "    }\n",
              "\n",
              "    [theme=dark] .colab-df-convert:hover {\n",
              "      background-color: #434B5C;\n",
              "      box-shadow: 0px 1px 3px 1px rgba(0, 0, 0, 0.15);\n",
              "      filter: drop-shadow(0px 1px 2px rgba(0, 0, 0, 0.3));\n",
              "      fill: #FFFFFF;\n",
              "    }\n",
              "  </style>\n",
              "\n",
              "      <script>\n",
              "        const buttonEl =\n",
              "          document.querySelector('#df-aa32d6f4-4979-4ce0-88e5-07bb5517373a button.colab-df-convert');\n",
              "        buttonEl.style.display =\n",
              "          google.colab.kernel.accessAllowed ? 'block' : 'none';\n",
              "\n",
              "        async function convertToInteractive(key) {\n",
              "          const element = document.querySelector('#df-aa32d6f4-4979-4ce0-88e5-07bb5517373a');\n",
              "          const dataTable =\n",
              "            await google.colab.kernel.invokeFunction('convertToInteractive',\n",
              "                                                     [key], {});\n",
              "          if (!dataTable) return;\n",
              "\n",
              "          const docLinkHtml = 'Like what you see? Visit the ' +\n",
              "            '<a target=\"_blank\" href=https://colab.research.google.com/notebooks/data_table.ipynb>data table notebook</a>'\n",
              "            + ' to learn more about interactive tables.';\n",
              "          element.innerHTML = '';\n",
              "          dataTable['output_type'] = 'display_data';\n",
              "          await google.colab.output.renderOutput(dataTable, element);\n",
              "          const docLink = document.createElement('div');\n",
              "          docLink.innerHTML = docLinkHtml;\n",
              "          element.appendChild(docLink);\n",
              "        }\n",
              "      </script>\n",
              "    </div>\n",
              "  </div>\n",
              "  "
            ]
          },
          "metadata": {},
          "execution_count": 5
        }
      ]
    },
    {
      "cell_type": "code",
      "source": [
        "import ast\n",
        "df_TrainSet_proc['Text_proc']=df_TrainSet_proc['Text_proc'].apply(lambda x: ast.literal_eval(x))\n",
        "df_TrainSet_proc['Title_proc']=df_TrainSet_proc['Title_proc'].apply(lambda x: ast.literal_eval(x))\n",
        "df_TestSet_proc['Text_proc']=df_TestSet_proc['Text_proc'].apply(lambda x: ast.literal_eval(x))\n",
        "df_TestSet_proc['Title_proc']=df_TestSet_proc['Title_proc'].apply(lambda x: ast.literal_eval(x))"
      ],
      "metadata": {
        "id": "XDDGzk0cd-bw"
      },
      "execution_count": 6,
      "outputs": []
    },
    {
      "cell_type": "code",
      "source": [
        "import torch\n",
        "\n",
        "# If there's a GPU available...\n",
        "if torch.cuda.is_available():    \n",
        "\n",
        "    # Tell PyTorch to use the GPU.    \n",
        "    device = torch.device(\"cuda\")\n",
        "\n",
        "    print('There are %d GPU(s) available.' % torch.cuda.device_count())\n",
        "\n",
        "    print('We will use the GPU:', torch.cuda.get_device_name(0))\n",
        "\n",
        "# If not...\n",
        "else:\n",
        "    print('No GPU available, using the CPU instead.')\n",
        "    device = torch.device(\"cpu\")\n"
      ],
      "metadata": {
        "colab": {
          "base_uri": "https://localhost:8080/"
        },
        "id": "_DUffRG4iULQ",
        "outputId": "efbf18f7-bc61-4f41-df56-4e299ffdda01"
      },
      "execution_count": 7,
      "outputs": [
        {
          "output_type": "stream",
          "name": "stdout",
          "text": [
            "There are 1 GPU(s) available.\n",
            "We will use the GPU: Tesla T4\n"
          ]
        }
      ]
    },
    {
      "cell_type": "markdown",
      "source": [
        "## Vectorize using TFIDF"
      ],
      "metadata": {
        "id": "0PRA5vxJeQdf"
      }
    },
    {
      "cell_type": "code",
      "source": [
        "df_TrainSet_proc[['Text_proc', 'Title_proc']]"
      ],
      "metadata": {
        "colab": {
          "base_uri": "https://localhost:8080/",
          "height": 424
        },
        "id": "x2Vrm7lSlchR",
        "outputId": "1d1ad534-dd21-4cdf-b692-6a872734022d"
      },
      "execution_count": 8,
      "outputs": [
        {
          "output_type": "execute_result",
          "data": {
            "text/plain": [
              "                                               Text_proc  \\\n",
              "0      [back, television, station, register, foreign,...   \n",
              "1      [set, health, policy, consultant, pick, admini...   \n",
              "2      [global, warming, shove, throat, day, take, of...   \n",
              "3      [yes, pr, department, spend, million, outside,...   \n",
              "4      [stand, belief, million, people, vote, illegal...   \n",
              "...                                                  ...   \n",
              "40404  [republican, say, oppose, republican, tax, pro...   \n",
              "40405  [terror, attack, medium, go, great, length, su...   \n",
              "40406  [fly, troop, rotation, come, end, strong, forc...   \n",
              "40407  [actor, s, brilliant, letter, expose, utter, h...   \n",
              "40408  [husband, mark, platinum, wedding, anniversary...   \n",
              "\n",
              "                                              Title_proc  \n",
              "0                             [register, foreign, agent]  \n",
              "1                    [trump, pick, transition, official]  \n",
              "2                                   [make, time, future]  \n",
              "3      [outrageous, report, spending, bad, pr, campai...  \n",
              "4      [despite, evidence, say, stand, voter, fraud, ...  \n",
              "...                                                  ...  \n",
              "40404                [republican, oppose, tax, proposal]  \n",
              "40405  [terror, attack, blame, witness, description, ...  \n",
              "40406                  [hundred, leave, troop, rotation]  \n",
              "40407  [OUCH, leftist, got, school, actor, write, sug...  \n",
              "40408  [queen, husband, celebrate, year, marriage, qu...  \n",
              "\n",
              "[40409 rows x 2 columns]"
            ],
            "text/html": [
              "\n",
              "  <div id=\"df-0ff55af5-9241-4f8e-a248-3aac28364108\">\n",
              "    <div class=\"colab-df-container\">\n",
              "      <div>\n",
              "<style scoped>\n",
              "    .dataframe tbody tr th:only-of-type {\n",
              "        vertical-align: middle;\n",
              "    }\n",
              "\n",
              "    .dataframe tbody tr th {\n",
              "        vertical-align: top;\n",
              "    }\n",
              "\n",
              "    .dataframe thead th {\n",
              "        text-align: right;\n",
              "    }\n",
              "</style>\n",
              "<table border=\"1\" class=\"dataframe\">\n",
              "  <thead>\n",
              "    <tr style=\"text-align: right;\">\n",
              "      <th></th>\n",
              "      <th>Text_proc</th>\n",
              "      <th>Title_proc</th>\n",
              "    </tr>\n",
              "  </thead>\n",
              "  <tbody>\n",
              "    <tr>\n",
              "      <th>0</th>\n",
              "      <td>[back, television, station, register, foreign,...</td>\n",
              "      <td>[register, foreign, agent]</td>\n",
              "    </tr>\n",
              "    <tr>\n",
              "      <th>1</th>\n",
              "      <td>[set, health, policy, consultant, pick, admini...</td>\n",
              "      <td>[trump, pick, transition, official]</td>\n",
              "    </tr>\n",
              "    <tr>\n",
              "      <th>2</th>\n",
              "      <td>[global, warming, shove, throat, day, take, of...</td>\n",
              "      <td>[make, time, future]</td>\n",
              "    </tr>\n",
              "    <tr>\n",
              "      <th>3</th>\n",
              "      <td>[yes, pr, department, spend, million, outside,...</td>\n",
              "      <td>[outrageous, report, spending, bad, pr, campai...</td>\n",
              "    </tr>\n",
              "    <tr>\n",
              "      <th>4</th>\n",
              "      <td>[stand, belief, million, people, vote, illegal...</td>\n",
              "      <td>[despite, evidence, say, stand, voter, fraud, ...</td>\n",
              "    </tr>\n",
              "    <tr>\n",
              "      <th>...</th>\n",
              "      <td>...</td>\n",
              "      <td>...</td>\n",
              "    </tr>\n",
              "    <tr>\n",
              "      <th>40404</th>\n",
              "      <td>[republican, say, oppose, republican, tax, pro...</td>\n",
              "      <td>[republican, oppose, tax, proposal]</td>\n",
              "    </tr>\n",
              "    <tr>\n",
              "      <th>40405</th>\n",
              "      <td>[terror, attack, medium, go, great, length, su...</td>\n",
              "      <td>[terror, attack, blame, witness, description, ...</td>\n",
              "    </tr>\n",
              "    <tr>\n",
              "      <th>40406</th>\n",
              "      <td>[fly, troop, rotation, come, end, strong, forc...</td>\n",
              "      <td>[hundred, leave, troop, rotation]</td>\n",
              "    </tr>\n",
              "    <tr>\n",
              "      <th>40407</th>\n",
              "      <td>[actor, s, brilliant, letter, expose, utter, h...</td>\n",
              "      <td>[OUCH, leftist, got, school, actor, write, sug...</td>\n",
              "    </tr>\n",
              "    <tr>\n",
              "      <th>40408</th>\n",
              "      <td>[husband, mark, platinum, wedding, anniversary...</td>\n",
              "      <td>[queen, husband, celebrate, year, marriage, qu...</td>\n",
              "    </tr>\n",
              "  </tbody>\n",
              "</table>\n",
              "<p>40409 rows × 2 columns</p>\n",
              "</div>\n",
              "      <button class=\"colab-df-convert\" onclick=\"convertToInteractive('df-0ff55af5-9241-4f8e-a248-3aac28364108')\"\n",
              "              title=\"Convert this dataframe to an interactive table.\"\n",
              "              style=\"display:none;\">\n",
              "        \n",
              "  <svg xmlns=\"http://www.w3.org/2000/svg\" height=\"24px\"viewBox=\"0 0 24 24\"\n",
              "       width=\"24px\">\n",
              "    <path d=\"M0 0h24v24H0V0z\" fill=\"none\"/>\n",
              "    <path d=\"M18.56 5.44l.94 2.06.94-2.06 2.06-.94-2.06-.94-.94-2.06-.94 2.06-2.06.94zm-11 1L8.5 8.5l.94-2.06 2.06-.94-2.06-.94L8.5 2.5l-.94 2.06-2.06.94zm10 10l.94 2.06.94-2.06 2.06-.94-2.06-.94-.94-2.06-.94 2.06-2.06.94z\"/><path d=\"M17.41 7.96l-1.37-1.37c-.4-.4-.92-.59-1.43-.59-.52 0-1.04.2-1.43.59L10.3 9.45l-7.72 7.72c-.78.78-.78 2.05 0 2.83L4 21.41c.39.39.9.59 1.41.59.51 0 1.02-.2 1.41-.59l7.78-7.78 2.81-2.81c.8-.78.8-2.07 0-2.86zM5.41 20L4 18.59l7.72-7.72 1.47 1.35L5.41 20z\"/>\n",
              "  </svg>\n",
              "      </button>\n",
              "      \n",
              "  <style>\n",
              "    .colab-df-container {\n",
              "      display:flex;\n",
              "      flex-wrap:wrap;\n",
              "      gap: 12px;\n",
              "    }\n",
              "\n",
              "    .colab-df-convert {\n",
              "      background-color: #E8F0FE;\n",
              "      border: none;\n",
              "      border-radius: 50%;\n",
              "      cursor: pointer;\n",
              "      display: none;\n",
              "      fill: #1967D2;\n",
              "      height: 32px;\n",
              "      padding: 0 0 0 0;\n",
              "      width: 32px;\n",
              "    }\n",
              "\n",
              "    .colab-df-convert:hover {\n",
              "      background-color: #E2EBFA;\n",
              "      box-shadow: 0px 1px 2px rgba(60, 64, 67, 0.3), 0px 1px 3px 1px rgba(60, 64, 67, 0.15);\n",
              "      fill: #174EA6;\n",
              "    }\n",
              "\n",
              "    [theme=dark] .colab-df-convert {\n",
              "      background-color: #3B4455;\n",
              "      fill: #D2E3FC;\n",
              "    }\n",
              "\n",
              "    [theme=dark] .colab-df-convert:hover {\n",
              "      background-color: #434B5C;\n",
              "      box-shadow: 0px 1px 3px 1px rgba(0, 0, 0, 0.15);\n",
              "      filter: drop-shadow(0px 1px 2px rgba(0, 0, 0, 0.3));\n",
              "      fill: #FFFFFF;\n",
              "    }\n",
              "  </style>\n",
              "\n",
              "      <script>\n",
              "        const buttonEl =\n",
              "          document.querySelector('#df-0ff55af5-9241-4f8e-a248-3aac28364108 button.colab-df-convert');\n",
              "        buttonEl.style.display =\n",
              "          google.colab.kernel.accessAllowed ? 'block' : 'none';\n",
              "\n",
              "        async function convertToInteractive(key) {\n",
              "          const element = document.querySelector('#df-0ff55af5-9241-4f8e-a248-3aac28364108');\n",
              "          const dataTable =\n",
              "            await google.colab.kernel.invokeFunction('convertToInteractive',\n",
              "                                                     [key], {});\n",
              "          if (!dataTable) return;\n",
              "\n",
              "          const docLinkHtml = 'Like what you see? Visit the ' +\n",
              "            '<a target=\"_blank\" href=https://colab.research.google.com/notebooks/data_table.ipynb>data table notebook</a>'\n",
              "            + ' to learn more about interactive tables.';\n",
              "          element.innerHTML = '';\n",
              "          dataTable['output_type'] = 'display_data';\n",
              "          await google.colab.output.renderOutput(dataTable, element);\n",
              "          const docLink = document.createElement('div');\n",
              "          docLink.innerHTML = docLinkHtml;\n",
              "          element.appendChild(docLink);\n",
              "        }\n",
              "      </script>\n",
              "    </div>\n",
              "  </div>\n",
              "  "
            ]
          },
          "metadata": {},
          "execution_count": 8
        }
      ]
    },
    {
      "cell_type": "code",
      "source": [
        "df_TrainSet_proc[\"Data_proc\"] = df_TrainSet_proc['Text_proc']+df_TrainSet_proc[\"Title_proc\"]\n",
        "df_TestSet_proc[\"Data_proc\"] = df_TestSet_proc['Text_proc']+df_TestSet_proc[\"Title_proc\"]"
      ],
      "metadata": {
        "id": "t6lBOW6Hmgqp"
      },
      "execution_count": 9,
      "outputs": []
    },
    {
      "cell_type": "code",
      "source": [
        "from sklearn.feature_extraction.text import TfidfVectorizer\n",
        "tfidfvectorizer = TfidfVectorizer(preprocessor=' '.join,stop_words='english', lowercase=False)\n",
        "Train_vectorised = tfidfvectorizer.fit_transform(df_TrainSet_proc['Data_proc'].tolist())\n",
        "Test_vectorised = tfidfvectorizer.transform(df_TestSet_proc['Data_proc'].tolist())"
      ],
      "metadata": {
        "id": "UlWhDcmaeFpE"
      },
      "execution_count": 10,
      "outputs": []
    },
    {
      "cell_type": "code",
      "source": [
        "#Clear CUDA cache\n",
        "import gc\n",
        "\n",
        "gc.collect()\n",
        "\n",
        "torch.cuda.empty_cache()"
      ],
      "metadata": {
        "id": "q6p8FUiePVoA"
      },
      "execution_count": 11,
      "outputs": []
    },
    {
      "cell_type": "code",
      "source": [
        "tfidf_tokens = tfidfvectorizer.get_feature_names()\n",
        "#df_train_tfidfvect = pd.DataFrame(data = Train_vectorised.toarray(),columns = tfidf_tokens)"
      ],
      "metadata": {
        "colab": {
          "base_uri": "https://localhost:8080/"
        },
        "id": "au5Bq7jslo17",
        "outputId": "0aaf677d-6db7-4b87-dbf9-916aa55109a5"
      },
      "execution_count": 12,
      "outputs": [
        {
          "output_type": "stream",
          "name": "stderr",
          "text": [
            "/usr/local/lib/python3.7/dist-packages/sklearn/utils/deprecation.py:87: FutureWarning: Function get_feature_names is deprecated; get_feature_names is deprecated in 1.0 and will be removed in 1.2. Please use get_feature_names_out instead.\n",
            "  warnings.warn(msg, category=FutureWarning)\n"
          ]
        }
      ]
    },
    {
      "cell_type": "code",
      "source": [
        "Train_vectorised.shape"
      ],
      "metadata": {
        "colab": {
          "base_uri": "https://localhost:8080/"
        },
        "id": "-lR6JkjYmF8D",
        "outputId": "6b5a96a7-78d2-4e96-bb99-7e44bcdc7904"
      },
      "execution_count": 13,
      "outputs": [
        {
          "output_type": "execute_result",
          "data": {
            "text/plain": [
              "(40409, 38846)"
            ]
          },
          "metadata": {},
          "execution_count": 13
        }
      ]
    },
    {
      "cell_type": "code",
      "source": [
        "Test_vectorised.shape"
      ],
      "metadata": {
        "colab": {
          "base_uri": "https://localhost:8080/"
        },
        "id": "VKAlbLriQO7O",
        "outputId": "9439fb61-bfa8-4269-b507-d9a34d86536d"
      },
      "execution_count": 14,
      "outputs": [
        {
          "output_type": "execute_result",
          "data": {
            "text/plain": [
              "(4489, 38846)"
            ]
          },
          "metadata": {},
          "execution_count": 14
        }
      ]
    },
    {
      "cell_type": "markdown",
      "source": [
        "## Logistic Model"
      ],
      "metadata": {
        "id": "OuIEFoHKjXpV"
      }
    },
    {
      "cell_type": "code",
      "source": [
        "from sklearn.linear_model import LogisticRegression\n",
        "from sklearn.model_selection import cross_val_score, StratifiedKFold\n",
        "from sklearn import svm"
      ],
      "metadata": {
        "id": "PaVnwI-WLzeA"
      },
      "execution_count": 15,
      "outputs": []
    },
    {
      "cell_type": "code",
      "source": [
        "SVM_model = svm.SVC(C=1.0, kernel='linear', degree=3, gamma='auto')"
      ],
      "metadata": {
        "id": "rTgeUmnEQWwr"
      },
      "execution_count": 16,
      "outputs": []
    },
    {
      "cell_type": "code",
      "source": [
        "skf = StratifiedKFold(n_splits=5, shuffle=True, random_state=17)\n",
        "cv_results = cross_val_score(SVM_model, Train_vectorised, df_TrainSet_proc['Label'], cv=skf, scoring='f1_micro')"
      ],
      "metadata": {
        "id": "ZlYZR0KuQ_H6"
      },
      "execution_count": 17,
      "outputs": []
    },
    {
      "cell_type": "code",
      "source": [
        "cv_results, cv_results.mean()"
      ],
      "metadata": {
        "colab": {
          "base_uri": "https://localhost:8080/"
        },
        "id": "6VeJ9VhcMfgb",
        "outputId": "3d821949-2c8f-4219-ad80-e79769019271"
      },
      "execution_count": 18,
      "outputs": [
        {
          "output_type": "execute_result",
          "data": {
            "text/plain": [
              "(array([0.98119277, 0.97871814, 0.9762435 , 0.97686216, 0.97525059]),\n",
              " 0.9776534335705964)"
            ]
          },
          "metadata": {},
          "execution_count": 18
        }
      ]
    },
    {
      "cell_type": "code",
      "source": [
        "\n",
        "trainSVM = SVM_model.fit(Train_vectorised,df_TrainSet_proc['Label'])\n",
        "# predict the labels on validation dataset\n",
        "SVM_predictions = SVM_model.predict(Test_vectorised)\n",
        "# Use accuracy_score function to get the accuracy"
      ],
      "metadata": {
        "id": "cejXoCjqRqmS"
      },
      "execution_count": 19,
      "outputs": []
    },
    {
      "cell_type": "code",
      "source": [
        "SVM_predictions"
      ],
      "metadata": {
        "colab": {
          "base_uri": "https://localhost:8080/"
        },
        "id": "L2xQKl48R8hD",
        "outputId": "5af24af8-629b-47a1-c4e4-b2131978e0c2"
      },
      "execution_count": 20,
      "outputs": [
        {
          "output_type": "execute_result",
          "data": {
            "text/plain": [
              "array(['T', 'T', 'F', ..., 'T', 'T', 'F'], dtype=object)"
            ]
          },
          "metadata": {},
          "execution_count": 20
        }
      ]
    },
    {
      "cell_type": "code",
      "source": [
        "df_TestSet_proc['Label'].to_numpy()"
      ],
      "metadata": {
        "colab": {
          "base_uri": "https://localhost:8080/"
        },
        "id": "k1lXrJSDUHc1",
        "outputId": "79702d20-8ca9-4391-ad20-cf607a4b5a6d"
      },
      "execution_count": 21,
      "outputs": [
        {
          "output_type": "execute_result",
          "data": {
            "text/plain": [
              "array(['T', 'T', 'F', ..., 'T', 'T', 'F'], dtype=object)"
            ]
          },
          "metadata": {},
          "execution_count": 21
        }
      ]
    },
    {
      "cell_type": "markdown",
      "source": [
        "## Metrics of logistic Regression Model"
      ],
      "metadata": {
        "id": "puFcZA4Lxx2B"
      }
    },
    {
      "cell_type": "code",
      "source": [
        "print(SVM_model.coef_, SVM_model.intercept_)"
      ],
      "metadata": {
        "colab": {
          "base_uri": "https://localhost:8080/"
        },
        "id": "YvhRgauYxmxi",
        "outputId": "a99d59fa-2bf7-47cb-d7bd-6c2c1f61ce0e"
      },
      "execution_count": 22,
      "outputs": [
        {
          "output_type": "stream",
          "name": "stdout",
          "text": [
            "  (0, 2184)\t0.15268253791982633\n",
            "  (0, 36922)\t0.02538952661082983\n",
            "  (0, 11131)\t0.03791000350239595\n",
            "  (0, 26707)\t0.10505345040911937\n",
            "  (0, 25471)\t0.09930134926795216\n",
            "  (0, 3718)\t0.11217807550771608\n",
            "  (0, 24496)\t0.10247141308510037\n",
            "  (0, 5188)\t0.10247141308510037\n",
            "  (0, 10302)\t0.1572280753786117\n",
            "  (0, 27301)\t0.0544697710532371\n",
            "  (0, 2095)\t0.0544697710532371\n",
            "  (0, 36290)\t0.012441667174593045\n",
            "  (0, 33468)\t0.012101053397399631\n",
            "  (0, 32766)\t0.012921735330442434\n",
            "  (0, 22254)\t0.012921735330442434\n",
            "  (0, 3579)\t0.01128037146435683\n",
            "  (0, 36009)\t0.10817248248532182\n",
            "  (0, 35030)\t0.09443203667709568\n",
            "  (0, 29131)\t0.10817248248532182\n",
            "  (0, 16042)\t0.09909054181023612\n",
            "  (0, 5543)\t0.097283436810707\n",
            "  (0, 17458)\t0.2057719663492785\n",
            "  (0, 24998)\t0.04537778838851652\n",
            "  (0, 6215)\t0.04821238670038297\n",
            "  (0, 6813)\t0.014732857711023853\n",
            "  :\t:\n",
            "  (0, 7685)\t-0.43578413799202165\n",
            "  (0, 7257)\t-0.20544786081026695\n",
            "  (0, 6643)\t-0.4740823681485744\n",
            "  (0, 6243)\t-0.0944975261427526\n",
            "  (0, 6097)\t0.15592604954116795\n",
            "  (0, 6046)\t1.2527048186613534\n",
            "  (0, 5535)\t0.0860987382583342\n",
            "  (0, 4855)\t-0.12148915983762987\n",
            "  (0, 4656)\t-0.12214286902745777\n",
            "  (0, 4492)\t-1.5508406669843937\n",
            "  (0, 4429)\t0.6037263122865809\n",
            "  (0, 4160)\t0.257265463965328\n",
            "  (0, 3416)\t0.1555701050307344\n",
            "  (0, 3414)\t-1.3748762782170048\n",
            "  (0, 3284)\t-0.022915947603188817\n",
            "  (0, 3255)\t-0.3633501542761625\n",
            "  (0, 3110)\t-0.16413513103747313\n",
            "  (0, 3044)\t-0.33884824509467504\n",
            "  (0, 2779)\t1.0157286027976042\n",
            "  (0, 2353)\t-1.4147816009686631\n",
            "  (0, 2150)\t-2.458090358775206\n",
            "  (0, 1766)\t-0.8472646854668282\n",
            "  (0, 1763)\t1.565487288231256\n",
            "  (0, 1685)\t-0.06449892404319632\n",
            "  (0, 1490)\t0.7589260573756379 [-0.02789578]\n"
          ]
        }
      ]
    },
    {
      "cell_type": "code",
      "source": [
        "import sklearn\n",
        "acc = sklearn.metrics.accuracy_score(df_TestSet_proc['Label'].to_numpy(),SVM_predictions)"
      ],
      "metadata": {
        "id": "XJfcUXtuUDzY"
      },
      "execution_count": 23,
      "outputs": []
    },
    {
      "cell_type": "code",
      "source": [
        "print('The accuracy for logictic regression when predicted on test set is', acc)"
      ],
      "metadata": {
        "colab": {
          "base_uri": "https://localhost:8080/"
        },
        "id": "WGgqk90cUXYt",
        "outputId": "46bf79af-867d-484c-c398-96ebe146d16c"
      },
      "execution_count": 24,
      "outputs": [
        {
          "output_type": "stream",
          "name": "stdout",
          "text": [
            "The accuracy for logictic regression when predicted on test set is 0.9768322566273112\n"
          ]
        }
      ]
    },
    {
      "cell_type": "code",
      "source": [
        "from sklearn.metrics import f1_score\n",
        "print('The F1-micro score for logictic regression when predicted on test set is', f1_score(df_TestSet_proc['Label'].to_numpy(), SVM_predictions, average='micro'))"
      ],
      "metadata": {
        "colab": {
          "base_uri": "https://localhost:8080/"
        },
        "id": "fsx0K_OQVl7U",
        "outputId": "25a53359-2fa7-4682-d094-d14faa9fec10"
      },
      "execution_count": 25,
      "outputs": [
        {
          "output_type": "stream",
          "name": "stdout",
          "text": [
            "The F1-micro score for logictic regression when predicted on test set is 0.9768322566273112\n"
          ]
        }
      ]
    },
    {
      "cell_type": "code",
      "source": [
        "f1_score(df_TestSet_proc['Label'].to_numpy(), SVM_predictions, average=None)"
      ],
      "metadata": {
        "colab": {
          "base_uri": "https://localhost:8080/"
        },
        "id": "I3ibzoJoh2Hm",
        "outputId": "6ac88524-973e-44c1-b6ef-8bcaa78e782c"
      },
      "execution_count": 33,
      "outputs": [
        {
          "output_type": "execute_result",
          "data": {
            "text/plain": [
              "array([0.97786292, 0.97570093])"
            ]
          },
          "metadata": {},
          "execution_count": 33
        }
      ]
    },
    {
      "cell_type": "code",
      "source": [
        "df_TrainSet_proc.Label.value_counts()"
      ],
      "metadata": {
        "colab": {
          "base_uri": "https://localhost:8080/"
        },
        "id": "cm2FOL580qQL",
        "outputId": "aa24b14e-14df-45bc-f7c7-392526add418"
      },
      "execution_count": 26,
      "outputs": [
        {
          "output_type": "execute_result",
          "data": {
            "text/plain": [
              "F    21133\n",
              "T    19276\n",
              "Name: Label, dtype: int64"
            ]
          },
          "metadata": {},
          "execution_count": 26
        }
      ]
    },
    {
      "cell_type": "code",
      "source": [
        "df_TestSet_proc.Label.value_counts()"
      ],
      "metadata": {
        "colab": {
          "base_uri": "https://localhost:8080/"
        },
        "id": "gm9DJ2D125WO",
        "outputId": "3dcf1367-595b-4215-cadb-760205ec7a3e"
      },
      "execution_count": 27,
      "outputs": [
        {
          "output_type": "execute_result",
          "data": {
            "text/plain": [
              "F    2348\n",
              "T    2141\n",
              "Name: Label, dtype: int64"
            ]
          },
          "metadata": {},
          "execution_count": 27
        }
      ]
    },
    {
      "cell_type": "markdown",
      "source": [
        "## Graphs"
      ],
      "metadata": {
        "id": "sjgWfs9tyyCJ"
      }
    },
    {
      "cell_type": "code",
      "source": [
        "import matplotlib.pyplot as plt\n",
        "import numpy as np\n",
        "\n",
        "y = np.array([21133/(21133+19276),19276/(21133+19276)])\n",
        "mylabels = ['Real News','Fake News']\n",
        "myexplode = [0.1, 0]\n",
        "plt.figure(figsize = (15, 7), facecolor = None)\n",
        "plt.pie(y, labels = mylabels, explode = myexplode, shadow = True, startangle = 90)\n",
        "plt.legend()\n",
        "plt.title('Distribution of train data')\n",
        "plt.show() "
      ],
      "metadata": {
        "colab": {
          "base_uri": "https://localhost:8080/",
          "height": 427
        },
        "id": "KTXTaCP4yz1b",
        "outputId": "c4c98e9e-1771-4fa2-f142-c7b6a7ffd93b"
      },
      "execution_count": 28,
      "outputs": [
        {
          "output_type": "display_data",
          "data": {
            "text/plain": [
              "<Figure size 1080x504 with 1 Axes>"
            ],
            "image/png": "[encoded data removed]"
          },
          "metadata": {}
        }
      ]
    },
    {
      "cell_type": "code",
      "source": [
        "x = np.array([ 1,  2,  3,  4,  5])\n",
        "y = cv_results\n",
        " \n",
        "# Plotting the Graph\n",
        "plt.plot(x, y)\n",
        "plt.title(\"Curve showing stratified cross validation results\")\n",
        "plt.xlabel(\"Number of iterations\")\n",
        "plt.ylabel(\"F1 Score\")\n",
        "plt.show()"
      ],
      "metadata": {
        "colab": {
          "base_uri": "https://localhost:8080/",
          "height": 295
        },
        "id": "TFamV1Et11CI",
        "outputId": "bc8f2964-d82a-4bfc-f6d7-09937028483f"
      },
      "execution_count": 29,
      "outputs": [
        {
          "output_type": "display_data",
          "data": {
            "text/plain": [
              "<Figure size 432x288 with 1 Axes>"
            ],
            "image/png": "[encoded data removed]"
          },
          "metadata": {
            "needs_background": "light"
          }
        }
      ]
    },
    {
      "cell_type": "code",
      "source": [
        "from sklearn.metrics import plot_confusion_matrix\n",
        "plot_confusion_matrix(SVM_model, Test_vectorised, df_TestSet_proc['Label'].to_numpy()) "
      ],
      "metadata": {
        "colab": {
          "base_uri": "https://localhost:8080/",
          "height": 353
        },
        "id": "6s8PzgaD3kAX",
        "outputId": "263d46da-47ef-4b82-d890-c627b9d30a0a"
      },
      "execution_count": 30,
      "outputs": [
        {
          "output_type": "stream",
          "name": "stderr",
          "text": [
            "/usr/local/lib/python3.7/dist-packages/sklearn/utils/deprecation.py:87: FutureWarning: Function plot_confusion_matrix is deprecated; Function `plot_confusion_matrix` is deprecated in 1.0 and will be removed in 1.2. Use one of the class methods: ConfusionMatrixDisplay.from_predictions or ConfusionMatrixDisplay.from_estimator.\n",
            "  warnings.warn(msg, category=FutureWarning)\n"
          ]
        },
        {
          "output_type": "execute_result",
          "data": {
            "text/plain": [
              "<sklearn.metrics._plot.confusion_matrix.ConfusionMatrixDisplay at 0x7f1b6a7c7410>"
            ]
          },
          "metadata": {},
          "execution_count": 30
        },
        {
          "output_type": "display_data",
          "data": {
            "text/plain": [
              "<Figure size 432x288 with 2 Axes>"
            ],
            "image/png": "[encoded data removed]"
          },
          "metadata": {
            "needs_background": "light"
          }
        }
      ]
    },
    {
      "cell_type": "code",
      "source": [
        "import pandas as pd\n",
        "import seaborn as sns\n",
        "from sklearn.metrics import classification_report\n",
        "evaluation_report = classification_report(df_TestSet_proc['Label'].to_numpy(), SVM_predictions, output_dict=True, zero_division=1)\n",
        "sns.heatmap(pd.DataFrame(evaluation_report).iloc[:-1, :].T, annot=True)"
      ],
      "metadata": {
        "colab": {
          "base_uri": "https://localhost:8080/",
          "height": 283
        },
        "id": "37EFjUE4yz3y",
        "outputId": "42a14d69-57db-4cc8-9ab1-8403e85bd773"
      },
      "execution_count": 32,
      "outputs": [
        {
          "output_type": "execute_result",
          "data": {
            "text/plain": [
              "<matplotlib.axes._subplots.AxesSubplot at 0x7f1b6a11ff10>"
            ]
          },
          "metadata": {},
          "execution_count": 32
        },
        {
          "output_type": "display_data",
          "data": {
            "text/plain": [
              "<Figure size 432x288 with 2 Axes>"
            ],
            "image/png": "[encoded data removed]"
          },
          "metadata": {
            "needs_background": "light"
          }
        }
      ]
    },
    {
      "cell_type": "code",
      "source": [
        ""
      ],
      "metadata": {
        "id": "D9GlJskt6i6j"
      },
      "execution_count": 31,
      "outputs": []
    },
    {
      "cell_type": "code",
      "source": [
        ""
      ],
      "metadata": {
        "id": "UNoDo4wb6i9b"
      },
      "execution_count": 31,
      "outputs": []
    },
    {
      "cell_type": "code",
      "source": [
        ""
      ],
      "metadata": {
        "id": "NlMP6MZg6i_2"
      },
      "execution_count": 31,
      "outputs": []
    },
    {
      "cell_type": "code",
      "source": [
        ""
      ],
      "metadata": {
        "id": "I-llw_h_6jCZ"
      },
      "execution_count": 31,
      "outputs": []
    }
  ]
}